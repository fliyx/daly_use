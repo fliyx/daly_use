{
 "cells": [
  {
   "cell_type": "markdown",
   "metadata": {},
   "source": [
    "#鼠标操作"
   ]
  },
  {
   "cell_type": "code",
   "execution_count": 19,
   "metadata": {
    "scrolled": true
   },
   "outputs": [
    {
     "ename": "AttributeError",
     "evalue": "module 'cv2.cv2' has no attribute 'destroyAllWindow'",
     "output_type": "error",
     "traceback": [
      "\u001b[1;31m---------------------------------------------------------------------------\u001b[0m",
      "\u001b[1;31mAttributeError\u001b[0m                            Traceback (most recent call last)",
      "\u001b[1;32m<ipython-input-19-306b58992be1>\u001b[0m in \u001b[0;36m<module>\u001b[1;34m\u001b[0m\n\u001b[0;32m     24\u001b[0m \u001b[0mcv2\u001b[0m\u001b[1;33m.\u001b[0m\u001b[0mimshow\u001b[0m\u001b[1;33m(\u001b[0m\u001b[1;34m\"image\"\u001b[0m\u001b[1;33m,\u001b[0m \u001b[0mimg\u001b[0m\u001b[1;33m)\u001b[0m\u001b[1;33m\u001b[0m\u001b[0m\n\u001b[0;32m     25\u001b[0m \u001b[0mcv2\u001b[0m\u001b[1;33m.\u001b[0m\u001b[0mwaitKey\u001b[0m\u001b[1;33m(\u001b[0m\u001b[1;33m)\u001b[0m\u001b[1;33m\u001b[0m\u001b[0m\n\u001b[1;32m---> 26\u001b[1;33m \u001b[0mcv2\u001b[0m\u001b[1;33m.\u001b[0m\u001b[0mdestroyAllWindow\u001b[0m\u001b[1;33m(\u001b[0m\u001b[1;33m)\u001b[0m\u001b[1;33m\u001b[0m\u001b[0m\n\u001b[0m\u001b[0;32m     27\u001b[0m \u001b[1;33m\u001b[0m\u001b[0m\n",
      "\u001b[1;31mAttributeError\u001b[0m: module 'cv2.cv2' has no attribute 'destroyAllWindow'"
     ]
    }
   ],
   "source": [
    "# coding: utf-8\n",
    "import cv2\n",
    "import numpy as np\n",
    "import pdb \n",
    "\n",
    "# img = cv2.imread(\"D:\\\\python\\\\project\\\\math\\\\image\\\\1\\\\1.jpg\")\n",
    "img0= cv2.imread('./image/84/8354.jpg',0)\n",
    "# img0= cv2.imread('./image/1/83.jpg',0)\n",
    "img1=cv2.imread('./image/84/8387.jpg',0)\n",
    "img=img1*1.5-img0*1\n",
    "#print img.shape\n",
    "\n",
    "def on_EVENT_LBUTTONDOWN(event, x, y, flags, param):\n",
    "    if event == cv2.EVENT_LBUTTONDOWN:\n",
    "        xy = \"%d,%d\" % (x, y)\n",
    "        print(x,y)\n",
    "        cv2.circle(img, (x, y), 1, (255, 0, 0), thickness = -1)\n",
    "        cv2.putText(img, xy, (x, y), cv2.FONT_HERSHEY_PLAIN,\n",
    "                    1.0, (0,0,0), thickness = 1)\n",
    "        cv2.imshow(\"image\", img)\n",
    "\n",
    "cv2.namedWindow(\"image\", cv2.WINDOW_NORMAL)\n",
    "cv2.setMouseCallback(\"image\", on_EVENT_LBUTTONDOWN)\n",
    "cv2.imshow(\"image\", img)\n",
    "cv2.waitKey()\n",
    "cv2.destroyAllWindow()\n",
    "\n"
   ]
  },
  {
   "cell_type": "markdown",
   "metadata": {},
   "source": [
    "# 文件夹操作"
   ]
  },
  {
   "cell_type": "markdown",
   "metadata": {},
   "source": [
    "#获取文件夹的文件名"
   ]
  },
  {
   "cell_type": "code",
   "execution_count": 19,
   "metadata": {},
   "outputs": [
    {
     "name": "stdout",
     "output_type": "stream",
     "text": [
      "[0, 1, 2, 3, 4, 5, 6, 7, 8, 9, 10, 11, 12, 13, 14, 15, 16, 17, 18, 19, 20, 21, 22, 23, 24, 25, 26, 27, 28, 29, 30, 31, 32, 33, 34, 35, 36, 37, 38, 39, 40, 41, 42, 43, 44, 45, 46, 47, 48, 49, 50, 51, 52, 53, 54, 55, 56, 57, 58, 59, 60, 61, 62, 63, 64, 65, 66, 67, 68, 69, 70, 71, 72, 73, 74, 75, 76, 77, 78, 79, 80, 81, 82, 83, 84, 85, 86, 87, 88, 89, 90, 91, 92, 93, 94, 95, 96, 97, 98, 99]\n"
     ]
    }
   ],
   "source": [
    "import os       \n",
    "path='./image/1'\n",
    "imglist=os.listdir(path)\n",
    "img=[]\n",
    "for i in range(len(imglist)):\n",
    "    img.append(int(imglist[i].split('.')[0]))\n",
    "img.sort()\n",
    "print(img)"
   ]
  },
  {
   "cell_type": "code",
   "execution_count": 8,
   "metadata": {
    "collapsed": true
   },
   "outputs": [
    {
     "name": "stdout",
     "output_type": "stream",
     "text": [
      "./image/1/0.jpg\n",
      "./image/1/1.jpg\n",
      "./image/1/10.jpg\n",
      "./image/1/11.jpg\n",
      "./image/1/12.jpg\n",
      "./image/1/13.jpg\n",
      "./image/1/14.jpg\n",
      "./image/1/15.jpg\n",
      "./image/1/16.jpg\n",
      "./image/1/17.jpg\n",
      "./image/1/18.jpg\n",
      "./image/1/19.jpg\n",
      "./image/1/2.jpg\n",
      "./image/1/20.jpg\n",
      "./image/1/21.jpg\n",
      "./image/1/22.jpg\n",
      "./image/1/23.jpg\n",
      "./image/1/24.jpg\n",
      "./image/1/25.jpg\n",
      "./image/1/26.jpg\n",
      "./image/1/27.jpg\n",
      "./image/1/28.jpg\n",
      "./image/1/29.jpg\n",
      "./image/1/3.jpg\n",
      "./image/1/30.jpg\n",
      "./image/1/31.jpg\n",
      "./image/1/32.jpg\n",
      "./image/1/33.jpg\n",
      "./image/1/34.jpg\n",
      "./image/1/35.jpg\n",
      "./image/1/36.jpg\n",
      "./image/1/37.jpg\n",
      "./image/1/38.jpg\n",
      "./image/1/39.jpg\n",
      "./image/1/4.jpg\n",
      "./image/1/40.jpg\n",
      "./image/1/41.jpg\n",
      "./image/1/42.jpg\n",
      "./image/1/43.jpg\n",
      "./image/1/44.jpg\n",
      "./image/1/45.jpg\n",
      "./image/1/46.jpg\n",
      "./image/1/47.jpg\n",
      "./image/1/48.jpg\n",
      "./image/1/49.jpg\n",
      "./image/1/5.jpg\n",
      "./image/1/50.jpg\n",
      "./image/1/51.jpg\n",
      "./image/1/52.jpg\n",
      "./image/1/53.jpg\n",
      "./image/1/54.jpg\n",
      "./image/1/55.jpg\n",
      "./image/1/56.jpg\n",
      "./image/1/57.jpg\n",
      "./image/1/58.jpg\n",
      "./image/1/59.jpg\n",
      "./image/1/6.jpg\n",
      "./image/1/60.jpg\n",
      "./image/1/61.jpg\n",
      "./image/1/62.jpg\n",
      "./image/1/63.jpg\n",
      "./image/1/64.jpg\n",
      "./image/1/65.jpg\n",
      "./image/1/66.jpg\n",
      "./image/1/67.jpg\n",
      "./image/1/68.jpg\n",
      "./image/1/69.jpg\n",
      "./image/1/7.jpg\n",
      "./image/1/70.jpg\n",
      "./image/1/71.jpg\n",
      "./image/1/72.jpg\n",
      "./image/1/73.jpg\n",
      "./image/1/74.jpg\n",
      "./image/1/75.jpg\n",
      "./image/1/76.jpg\n",
      "./image/1/77.jpg\n",
      "./image/1/78.jpg\n",
      "./image/1/79.jpg\n",
      "./image/1/8.jpg\n",
      "./image/1/80.jpg\n",
      "./image/1/81.jpg\n",
      "./image/1/82.jpg\n",
      "./image/1/83.jpg\n",
      "./image/1/84.jpg\n",
      "./image/1/85.jpg\n",
      "./image/1/86.jpg\n",
      "./image/1/87.jpg\n",
      "./image/1/88.jpg\n",
      "./image/1/89.jpg\n",
      "./image/1/9.jpg\n",
      "./image/1/90.jpg\n",
      "./image/1/91.jpg\n",
      "./image/1/92.jpg\n",
      "./image/1/93.jpg\n",
      "./image/1/94.jpg\n",
      "./image/1/95.jpg\n",
      "./image/1/96.jpg\n",
      "./image/1/97.jpg\n",
      "./image/1/98.jpg\n",
      "./image/1/99.jpg\n"
     ]
    }
   ],
   "source": [
    "import os\n",
    "def tree(top):\n",
    "    for path, names, fnames in os.walk(top):\n",
    "        for fname in fnames:\n",
    "            yield os.path.join(path, fname)\n",
    " \n",
    "\n",
    "for name in tree('./image/1'):\n",
    "    name = name.replace('\\\\', '/')     #替换反斜杠\n",
    "    print(name)"
   ]
  },
  {
   "cell_type": "markdown",
   "metadata": {},
   "source": [
    "#对文件夹内文件排序\n",
    "#对排序文件重命名"
   ]
  },
  {
   "cell_type": "code",
   "execution_count": 53,
   "metadata": {},
   "outputs": [],
   "source": [
    "import os       \n",
    "path='./1'\n",
    "filelist=os.listdir(path)\n",
    "\n",
    "filelist.sort(key=lambda x: int(x.split('.')[0]))   #对文件按数字进行排序\n",
    "for i in range(len(filelist)):\n",
    "    file_oldname=filelist[i]\n",
    "    file_newname=str(len(filelist)+i) + '.' + filelist[i].split('.')[1]\n",
    "    oldname=path + '/' + file_oldname\n",
    "    newname=path + '/' + file_newname\n",
    "    os.rename(oldname,newname)"
   ]
  },
  {
   "cell_type": "markdown",
   "metadata": {},
   "source": [
    "#对文件夹进行压缩"
   ]
  },
  {
   "cell_type": "code",
   "execution_count": null,
   "metadata": {},
   "outputs": [],
   "source": [
    "import zipfile\n",
    "import os\n",
    "def zip_ya(startdir,file_news):\n",
    "    z = zipfile.ZipFile(file_news,'w',zipfile.ZIP_DEFLATED) #参数一：文件夹名\n",
    "    for dirpath, dirnames, filenames in os.walk(startdir):\n",
    "        fpath = dirpath.replace(startdir,'') \n",
    "        fpath = fpath and fpath + os.sep or ''\n",
    "        for filename in filenames:\n",
    "            z.write(os.path.join(dirpath, filename),fpath+filename)\n",
    "    print ('压缩成功')\n",
    "    z.close()\n",
    "    \n",
    "if __name__==\"__main__\":\n",
    "    startdir = \"./vs_1\"  #要压缩的文件夹路径\n",
    "    file_news = startdir +'.zip' # 压缩后文件夹的名字 \n",
    "    zip_ya(startdir,file_news)"
   ]
  },
  {
   "cell_type": "markdown",
   "metadata": {},
   "source": [
    "#对文件夹进行删除/复制"
   ]
  },
  {
   "cell_type": "code",
   "execution_count": 2,
   "metadata": {},
   "outputs": [],
   "source": [
    "import os\n",
    "#file_path = r'./vs_1'\n",
    "# 删除文件，命令 os.remove(file_path1)\n",
    "# 删除空文件夹，命令 os.rmdir(file_path)\n",
    "#删除非空文件夹\n",
    "import shutil\n",
    "shutil.rmtree('./new folder')  #删除残留文件\n",
    "\n",
    "#shutil.copytree('.\\\\1', '.\\\\new folder')  #只能复制到新创建的文件夹里面。"
   ]
  },
  {
   "cell_type": "markdown",
   "metadata": {},
   "source": [
    "#解压文件"
   ]
  },
  {
   "cell_type": "code",
   "execution_count": null,
   "metadata": {},
   "outputs": [],
   "source": [
    "import zipfile\n",
    "f = zipfile.ZipFile(\"./CNN.zip\",'r') # 原压缩文件在服务器的位置\n",
    "for file in f.namelist():\n",
    "    f.extract(file,\"./\") #解压到的位置，./表示当前目录(与此.ipynb文件同一个目录)\n",
    "f.close()"
   ]
  },
  {
   "cell_type": "markdown",
   "metadata": {},
   "source": [
    "#读取txt文件并转化为列表"
   ]
  },
  {
   "cell_type": "code",
   "execution_count": 36,
   "metadata": {},
   "outputs": [
    {
     "data": {
      "text/plain": [
       "'.data/data_pre/chenjia.txt'"
      ]
     },
     "execution_count": 36,
     "metadata": {},
     "output_type": "execute_result"
    }
   ],
   "source": [
    "def datalist_load(path):\n",
    "    with open(path, 'r') as f:\n",
    "        lines = f.readlines()\n",
    "        List = []\n",
    "        for line in lines:\n",
    "            List.append(lines.split('\\n')[0]) \n",
    "    return List\n",
    "data=[]\n",
    "for i in range(len(List)):\n",
    "    dataname = List[i]\n",
    "    data1=read_volume(dataname)\n",
    "    data.append(data1)\n",
    "    "
   ]
  },
  {
   "cell_type": "code",
   "execution_count": null,
   "metadata": {},
   "outputs": [],
   "source": []
  }
 ],
 "metadata": {
  "kernelspec": {
   "display_name": "Python 3",
   "language": "python",
   "name": "python3"
  },
  "language_info": {
   "codemirror_mode": {
    "name": "ipython",
    "version": 3
   },
   "file_extension": ".py",
   "mimetype": "text/x-python",
   "name": "python",
   "nbconvert_exporter": "python",
   "pygments_lexer": "ipython3",
   "version": "3.6.5"
  }
 },
 "nbformat": 4,
 "nbformat_minor": 4
}
