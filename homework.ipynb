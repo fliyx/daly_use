{
 "cells": [
  {
   "cell_type": "code",
   "execution_count": 16,
   "metadata": {},
   "outputs": [],
   "source": [
    "import math\n",
    "def s(error):\n",
    "    n=math.ceil((4/error - 3)/2)    #/a(n+1)/=1/(2n+3)\n",
    "    Sum=0\n",
    "    \n",
    "    for i in range(n):\n",
    "        Sum=Sum+(-1)**i*1/(2*i+1)*4\n",
    "    return  n ,Sum"
   ]
  },
  {
   "cell_type": "code",
   "execution_count": 17,
   "metadata": {},
   "outputs": [
    {
     "data": {
      "text/plain": [
       "(19999, 3.1416426560898874)"
      ]
     },
     "execution_count": 17,
     "metadata": {},
     "output_type": "execute_result"
    }
   ],
   "source": [
    "s(10**(-4))"
   ]
  },
  {
   "cell_type": "code",
   "execution_count": 18,
   "metadata": {},
   "outputs": [
    {
     "data": {
      "text/plain": [
       "(199999999, 3.1415926585894076)"
      ]
     },
     "execution_count": 18,
     "metadata": {},
     "output_type": "execute_result"
    }
   ],
   "source": [
    "s(10**(-8))"
   ]
  },
  {
   "cell_type": "code",
   "execution_count": 33,
   "metadata": {},
   "outputs": [
    {
     "data": {
      "image/png": "[encoded data removed]",
      "text/plain": [
       "<Figure size 432x288 with 1 Axes>"
      ]
     },
     "metadata": {
      "needs_background": "light"
     },
     "output_type": "display_data"
    }
   ],
   "source": [
    "import numpy as np\n",
    "import math\n",
    "import matplotlib.pyplot as plt\n",
    "\n",
    "def mysin(x, n):\n",
    "    a = x\n",
    "    s = a\n",
    "    for i in range(1, n):\n",
    "        a *= -1 * x**2 / ((2 * i) * (2 * i + 1))\n",
    "        s += a\n",
    "    return s\n",
    "vmysin = np.vectorize(mysin, excluded=['order'])\n",
    "x = np.linspace(-2*math.pi, 2*math.pi, 100)\n",
    "y = np.sin(x)\n",
    "y1=vmysin(x,2)\n",
    "y2=vmysin(x,5)\n",
    "y3=vmysin(x,10)\n",
    "plt.plot(x, y,  label='sin', color='purple')\n",
    "plt.plot(x, y1,  label='yn,n=2', color='green')\n",
    "plt.plot(x, y2,  label='yn,n=5', color='red')\n",
    "plt.plot(x, y3,  label='yn,n=10', color='blue')\n",
    "\n",
    "plt.legend()\n",
    "plt.show()"
   ]
  },
  {
   "cell_type": "code",
   "execution_count": 2,
   "metadata": {},
   "outputs": [
    {
     "data": {
      "text/plain": [
       "array([[ -9800.,   9900.],\n",
       "       [  9900., -10000.]])"
      ]
     },
     "execution_count": 2,
     "metadata": {},
     "output_type": "execute_result"
    }
   ],
   "source": [
    "import numpy as np\n",
    "\n",
    "a=np.array(([1,0.99],[0.99,0.98]))\n",
    "b=np.linalg.inv(a)\n",
    "b"
   ]
  },
  {
   "cell_type": "code",
   "execution_count": 18,
   "metadata": {},
   "outputs": [
    {
     "name": "stdout",
     "output_type": "stream",
     "text": [
      "0 [[1.0], [1.0], [1.5], [0.5]]\n",
      "1 [[1.0], [1.25], [1.25], [0.75]]\n",
      "2 [[1.125], [1.125], [1.5], [0.625]]\n",
      "3 [[1.063], [1.313], [1.375], [0.75]]\n",
      "4 [[1.157], [1.219], [1.532], [0.688]]\n",
      "5 [[1.11], [1.345], [1.454], [0.766]]\n",
      "6 [[1.173], [1.282], [1.556], [0.727]]\n",
      "7 [[1.141], [1.365], [1.505], [0.778]]\n",
      "8 [[1.183], [1.323], [1.572], [0.753]]\n",
      "9 [[1.162], [1.378], [1.538], [0.786]]\n",
      "10 [[1.189], [1.35], [1.582], [0.769]]\n",
      "11 [[1.175], [1.386], [1.56], [0.791]]\n",
      "12 [[1.193], [1.368], [1.589], [0.78]]\n",
      "13 [[1.184], [1.391], [1.574], [0.795]]\n",
      "14 [[1.196], [1.379], [1.593], [0.787]]\n",
      "15 [[1.19], [1.395], [1.583], [0.797]]\n",
      "16 [[1.198], [1.387], [1.596], [0.792]]\n",
      "17 [[1.194], [1.397], [1.59], [0.798]]\n",
      "18 [[1.199], [1.392], [1.598], [0.795]]\n",
      "19 [[1.196], [1.399], [1.594], [0.799]]\n",
      "20 [[1.2], [1.395], [1.599], [0.797]]\n",
      "21 [[1.198], [1.4], [1.596], [0.8]]\n",
      "22 [[1.2], [1.397], [1.6], [0.798]]\n",
      "23 [[1.199], [1.4], [1.598], [0.8]]\n",
      "24 [[1.2], [1.399], [1.6], [0.799]]\n",
      "25 [[1.2], [1.4], [1.599], [0.8]]\n",
      "26 [[1.2], [1.4], [1.6], [0.8]]\n",
      "[[1.2], [1.4], [1.6], [0.8]]\n"
     ]
    }
   ],
   "source": [
    "def Jacobi(mx,mr,n,c):\n",
    "    if len(mx) == len(mr):  #若mx和mr长度相等则开始迭代 否则方程无解\n",
    "        x = [[1],[1],[1],[1]] #迭代初值 初始化为单行全0矩阵\n",
    "\n",
    "        count = 0 #迭代次数计数\n",
    "        while count < n:\n",
    "            nx = [] #保存单次迭代后的值的集合\n",
    "            for i in range(len(x)):\n",
    "                nxi = mr[i][0]\n",
    "                for j in range(len(mx[i])):\n",
    "                    if j!=i:\n",
    "                        nxi = nxi+(-mx[i][j])*x[j][0]\n",
    "                nxi = nxi/mx[i][i]\n",
    "                nx.append([nxi]) #迭代计算得到的下一个xi值\n",
    "            lc = [] #存储两次迭代结果之间的误差的集合\n",
    "            for i in range(len(x)):\n",
    "                lc.append(abs(x[i][0]-nx[i][0]))\n",
    "            if max(lc) < c:\n",
    "                return nx #当误差满足要求时 返回计算结果\n",
    "            x = [[round(i[0]+0.0001,3)] for i in nx]\n",
    "            print(count,x)\n",
    "            count = count + 1\n",
    "        return False #若达到设定的迭代结果仍不满足精度要求 则方程无解\n",
    "    else:\n",
    "        return False\n",
    " \n",
    "#调用 Jacobi(mx,mr,n=100,c=0.001) 示例\n",
    "mx = [[2,-1,0,0],[-1,2,-1,0],[0,-1,2,-1],[0,0,-1,2]]\n",
    " \n",
    "mr = [[1],[0],[1],[0]]\n",
    "print(Jacobi(mx,mr,100,0.001))"
   ]
  },
  {
   "cell_type": "code",
   "execution_count": 40,
   "metadata": {},
   "outputs": [],
   "source": [
    "import numpy as np\n",
    "D = np.diag([10,9,7,12,15])\n",
    "L = np.array([[0,0,0,0,0],[-1,0,0,0,0],[-2,1,0,0,0],[-3,-2,-3,0,0],[-4,3,5,1,0]])\n",
    "U = L.T\n",
    "b=np.array([[12],[-27],[14],[-17],[12]])"
   ]
  },
  {
   "cell_type": "code",
   "execution_count": 43,
   "metadata": {},
   "outputs": [],
   "source": [
    "#jacobi迭代\n",
    "# R=np.linalg.inv(D)\n",
    "# M=np.dot(R,L+U)\n",
    "# g=np.dot(R,b)\n",
    "# g.resize(5)\n",
    "\n",
    "# 高斯赛德尔\n",
    "R=np.linalg.inv(D-L)\n",
    "M=np.dot(R,U)\n",
    "g=np.dot(R,b)\n",
    "g.resize(5)\n",
    "\n",
    "# #SOR\n",
    "# w=1.46\n",
    "# R=np.linalg.inv(D-L)\n",
    "# M=np.dot(R,(1-w)*D+w*U)\n",
    "# M = np.round(M+0.0001,3)\n",
    "# g=np.dot(R,w*b)\n",
    "# g = np.round(g+0.0001,3)\n",
    "# g.resize(4)\n",
    "\n"
   ]
  },
  {
   "cell_type": "code",
   "execution_count": 44,
   "metadata": {},
   "outputs": [
    {
     "name": "stdout",
     "output_type": "stream",
     "text": [
      "0 [ 0.1   -0.234  0.366 -0.244  0.099]\n",
      "1 [ 0.084 -0.104  0.564 -0.303  0.191]\n",
      "2 [ 0.013 -0.03   0.686 -0.32   0.264]\n",
      "3 [-0.043  0.018  0.768 -0.329  0.316]\n",
      "4 [-0.083  0.051  0.825 -0.334  0.351]\n",
      "5 [-0.11   0.073  0.863 -0.338  0.376]\n",
      "6 [-0.128  0.088  0.891 -0.34   0.392]\n",
      "7 [-0.141  0.098  0.908 -0.342  0.404]\n",
      "8 [-0.15   0.106  0.921 -0.343  0.412]\n",
      "9 [-0.156  0.111  0.93  -0.344  0.417]\n",
      "10 [-0.16   0.114  0.935 -0.344  0.421]\n",
      "11 [-0.163  0.116  0.939 -0.345  0.423]\n",
      "12 [-0.165  0.118  0.942 -0.345  0.425]\n",
      "13 [-0.166  0.119  0.944 -0.345  0.426]\n",
      "14 [-0.167  0.12   0.945 -0.345  0.427]\n",
      "15 [-0.168  0.12   0.946 -0.345  0.427]\n",
      "16 [-0.168  0.12   0.946 -0.345  0.428]\n",
      "17 [-0.168  0.121  0.947 -0.345  0.428]\n",
      "18 [-0.169  0.121  0.947 -0.345  0.428]\n"
     ]
    }
   ],
   "source": [
    "x = np.array([0,0,0,0,0])\n",
    "for i in range(100):\n",
    "    b=x\n",
    "    x = np.dot(M,x.T)+g.T\n",
    "    x = np.round(x+0.0001,3)#精确到三位有效数字\n",
    "    print(i, x)\n",
    "    if max(x-b)<0.001:\n",
    "        break"
   ]
  },
  {
   "cell_type": "code",
   "execution_count": 45,
   "metadata": {},
   "outputs": [],
   "source": [
    "def congrad(A,b,x):\n",
    "    r = b - np.dot(A,x)\n",
    "    d0 = r\n",
    "    lam0 = np.dot(r.T,r)/np.dot(d0.T,np.dot(A,d0))\n",
    "    for i in range(100):\n",
    "        print(i,x)\n",
    "        x = x + lam0*d0\n",
    "        r = b - np.dot(A,x)\n",
    "        beta = - np.dot(r.T,np.dot(A,d0))/np.dot(d0.T,np.dot(A,d0))\n",
    "        d = r + beta*d0\n",
    "        lam = np.dot(r.T,d)/np.dot(d.T,np.dot(A,d))\n",
    "        qr = np.linalg.norm(b-np.dot(A,x))\n",
    "        if qr <0.001:\n",
    "            print(i+1,x)\n",
    "            return x\n",
    "        lam0 = lam\n",
    "        d0 = d"
   ]
  },
  {
   "cell_type": "code",
   "execution_count": 46,
   "metadata": {},
   "outputs": [
    {
     "name": "stdout",
     "output_type": "stream",
     "text": [
      "0 [0 0 0 0 0]\n",
      "1 [ 1.07356007 -2.41551016  1.25248675 -1.52087676  1.07356007]\n",
      "2 [ 1.30560481 -2.62798056  2.14663622 -1.69427042  0.44239319]\n",
      "3 [ 1.44661808 -2.22538362  2.44804837 -1.97069065  0.62072181]\n",
      "4 [ 1.08655012 -2.06357384  2.79291064 -2.10164499  0.83638627]\n",
      "5 [ 1. -2.  3. -2.  1.]\n"
     ]
    }
   ],
   "source": [
    "A=D-L-U\n",
    "# x = np.array([[0],[0],[0],[0],[0]])\n",
    "x=np.array([0,0,0,0,0])\n",
    "b=np.array([12,-27,14,-17,12])\n",
    "x=congrad(A,b,x)"
   ]
  },
  {
   "cell_type": "code",
   "execution_count": 10,
   "metadata": {},
   "outputs": [
    {
     "data": {
      "text/latex": [
       "$\\displaystyle \\left\\{- a, 2 a\\right\\}$"
      ],
      "text/plain": [
       "FiniteSet(-a, 2*a)"
      ]
     },
     "execution_count": 10,
     "metadata": {},
     "output_type": "execute_result"
    }
   ],
   "source": [
    "import sympy as sp\n",
    "a=sp.symbols('a')\n",
    "m= sp.Matrix([[0,a,a],[a,0,a],[a,a,0]])\n",
    "# m= sp.Matrix([[0,1/a,3/a],[1/a,0,2/a],[-3/a,2/a,0]])\n",
    "lam = sp.symbols('lambda')\n",
    "cp = sp.det(lam * sp.eye(3)-m)\n",
    "eigs = sp.solveset(cp,lam)\n",
    "eigs"
   ]
  },
  {
   "cell_type": "code",
   "execution_count": 57,
   "metadata": {},
   "outputs": [],
   "source": [
    "w = 1.46\n",
    "MR = (1-w)*D+w*U"
   ]
  },
  {
   "cell_type": "code",
   "execution_count": 56,
   "metadata": {},
   "outputs": [],
   "source": [
    "ML = np.linalg.inv(D-w*L)"
   ]
  },
  {
   "cell_type": "code",
   "execution_count": 62,
   "metadata": {},
   "outputs": [],
   "source": [
    "M = np.dot(ML,MR)"
   ]
  },
  {
   "cell_type": "code",
   "execution_count": 65,
   "metadata": {},
   "outputs": [],
   "source": [
    "R = np.dot(ML, e)\n",
    "R.resize(4)"
   ]
  },
  {
   "cell_type": "markdown",
   "metadata": {},
   "source": [
    "# 4、数值实验1\n"
   ]
  },
  {
   "cell_type": "code",
   "execution_count": 47,
   "metadata": {},
   "outputs": [
    {
     "name": "stdout",
     "output_type": "stream",
     "text": [
      "40 11.0 [1252730182 1252730182  626365091]\n"
     ]
    }
   ],
   "source": [
    "def pmethod(A,x):   #直接幂法\n",
    "    r=0\n",
    "    for i in range(100000):\n",
    "        y = x\n",
    "        x = np.dot(A,y)\n",
    "        nr = max(x)/max(y)\n",
    "        if abs(nr - r)<0.000001:\n",
    "            return i,r,x\n",
    "        r = nr\n",
    "\n",
    "        \n",
    "import numpy as np\n",
    "A = np.array([[6,-4,18],[20,-6,-6],[22,-22,11]])\n",
    "x = np.array([1,1,1])\n",
    "x = x.T\n",
    "i,r,x = pmethod(A,x)\n",
    "print(i,r,x)      "
   ]
  },
  {
   "cell_type": "code",
   "execution_count": 49,
   "metadata": {},
   "outputs": [
    {
     "data": {
      "text/plain": [
       "(999999, 19.25, array([15.71428571, 15.71428571, 25.14285714]))"
      ]
     },
     "execution_count": 49,
     "metadata": {},
     "output_type": "execute_result"
    }
   ],
   "source": [
    "def pmethod(A,x):   #归一化\n",
    "    r=0\n",
    "    for i in range(1000000):\n",
    "        m = np.argmax(abs(x))\n",
    "        nr = x[m]\n",
    "        y = x / nr\n",
    "        x = np.dot(A,y)\n",
    "        if abs(nr-r)<0.000001:\n",
    "            return  i , r , x\n",
    "        r = nr\n",
    "    return i,r,x\n",
    "        \n",
    "import numpy as np\n",
    "A = np.array([[6,-4,18],[20,-6,-6],[22,-22,11]])\n",
    "x = np.array([1,1,1])\n",
    "x = x.T\n",
    "pmethod(A,x)"
   ]
  },
  {
   "cell_type": "markdown",
   "metadata": {},
   "source": [
    "# 4.2"
   ]
  },
  {
   "cell_type": "code",
   "execution_count": 37,
   "metadata": {},
   "outputs": [
    {
     "name": "stdout",
     "output_type": "stream",
     "text": [
      "13\n",
      "0.6476668227207327 [ 0.64766682  0.55429426 -0.47592817]\n"
     ]
    }
   ],
   "source": [
    "def pmethod(A,x):  #幂法\n",
    "    r = 0\n",
    "    for i in range(3):\n",
    "        m = np.argmax(abs(x))\n",
    "        nr = x[m]\n",
    "        y = x / nr\n",
    "        x = np.dot(A,y)\n",
    "        r = nr\n",
    "    return r\n",
    "        \n",
    "        \n",
    "def impmethod(A,x,r):  #反幂法\n",
    "    r0 = 1\n",
    "    I = np.identity(3)\n",
    "    A = A - r*I\n",
    "    for i in range(10**(4)):\n",
    "        m = np.argmax(abs(x))\n",
    "        nr = x[m]\n",
    "        y = x / nr  \n",
    "        x = np.dot(np.linalg.inv(A),y)\n",
    "        if abs(r+1/nr-r0)<10**(-10):\n",
    "            print(i)\n",
    "            return x,nr\n",
    "        r0 = r + 1/nr    \n",
    "        \n",
    "import numpy as np\n",
    "A = np.array([[12,6,-6],[6,16,2],[-6,2,16]])\n",
    "x = np.array([1,1,1])\n",
    "r = pmethod(A,x)\n",
    "r = np.round(r)   #取整\n",
    "x,nr =impmethod(A,x,r)\n",
    "print(nr,x)"
   ]
  },
  {
   "cell_type": "code",
   "execution_count": 28,
   "metadata": {},
   "outputs": [
    {
     "ename": "AttributeError",
     "evalue": "module 'sympy' has no attribute 'round'",
     "output_type": "error",
     "traceback": [
      "\u001b[1;31m---------------------------------------------------------------------------\u001b[0m",
      "\u001b[1;31mAttributeError\u001b[0m                            Traceback (most recent call last)",
      "\u001b[1;32m<ipython-input-28-fb6c1b5acfa7>\u001b[0m in \u001b[0;36m<module>\u001b[1;34m\u001b[0m\n\u001b[1;32m----> 1\u001b[1;33m \u001b[0mr\u001b[0m \u001b[1;33m=\u001b[0m \u001b[0msp\u001b[0m\u001b[1;33m.\u001b[0m\u001b[0mround\u001b[0m\u001b[1;33m(\u001b[0m\u001b[1;36m0.8\u001b[0m\u001b[1;33m)\u001b[0m\u001b[1;33m\u001b[0m\u001b[0m\n\u001b[0m\u001b[0;32m      2\u001b[0m \u001b[0mr\u001b[0m\u001b[1;33m\u001b[0m\u001b[0m\n",
      "\u001b[1;31mAttributeError\u001b[0m: module 'sympy' has no attribute 'round'"
     ]
    }
   ],
   "source": [
    "r = sp.round(0.8)\n",
    "r"
   ]
  },
  {
   "cell_type": "code",
   "execution_count": 11,
   "metadata": {
    "collapsed": true
   },
   "outputs": [
    {
     "name": "stdout",
     "output_type": "stream",
     "text": [
      "0 1 [-8.6  2.   3. ]\n",
      "1 -8.6 [-10.11162791   2.13953488   3.6744186 ]\n",
      "2 -10.111627906976745 [-10.11333947   1.94296228   3.82520699]\n"
     ]
    },
    {
     "data": {
      "text/plain": [
       "(array([ 1.        , -0.19211876, -0.37823382]), -10.113339466421342)"
      ]
     },
     "execution_count": 11,
     "metadata": {},
     "output_type": "execute_result"
    }
   ],
   "source": [
    "def pmethod(A,x):\n",
    "    r = 0\n",
    "    I = np.identity(3)\n",
    "    for i in range(100):\n",
    "        m = np.argmax(abs(x))\n",
    "        nr = x[m]\n",
    "        y = x / nr\n",
    "        x = np.dot(A-9.6*I,y)\n",
    "        if abs(nr-r)<0.01:\n",
    "            return y , nr\n",
    "        r = nr\n",
    "        print(i,r,x)\n",
    "        \n",
    "import numpy as np\n",
    "\n",
    "A = np.array([[1,2,3],[2,3,4],[3,4,5]])\n",
    "x = np.array([1,0,0])\n",
    "x = x.T\n",
    "pmethod(A,x)"
   ]
  },
  {
   "cell_type": "code",
   "execution_count": 24,
   "metadata": {
    "collapsed": true
   },
   "outputs": [
    {
     "name": "stdout",
     "output_type": "stream",
     "text": [
      "0 1 Matrix([[12644.5990717792], [-9256.11098044955], [3387.91075745747]])\n",
      "1 12644.5990717792 Matrix([[-0.788690276487147], [0.577419749858187], [-0.211368886248153]])\n",
      "2 -0.788690276487147 Matrix([[-0.394326052892864], [0.288754098397141], [-0.105727127576906]])\n",
      "3 -0.394326052892864 Matrix([[-0.262880790649906], [0.192535363439748], [-0.0705353840822966]])\n",
      "4 -0.262880790649906 Matrix([[-0.197161367352776], [0.144418246372627], [-0.0529594997810316]])\n",
      "5 -0.197161367352776 Matrix([[-0.157731478730068], [0.115536506169017], [-0.0424331699356111]])\n",
      "6 -0.157731478730068 Matrix([[-0.131446071529674], [0.0962688244120321], [-0.0354342799182978]])\n",
      "7 -0.131446071529674 Matrix([[-0.112671662151209], [0.0824921207702787], [-0.0304532875986414]])\n",
      "8 -0.112671662151209 Matrix([[-0.0985915516740920], [0.0721450480399529], [-0.0267353591265749]])\n",
      "9 -0.0985915516740920 Matrix([[-0.0876409272648494], [0.0640825377386732], [-0.0238610881442185]])\n",
      "10 -0.0876409272648494 Matrix([[-0.0788809116657572], [0.0576176364203648], [-0.0215787846604846]])\n",
      "11 -0.0788809116657572 Matrix([[-0.0717140435143621], [0.0523132577664077], [-0.0197282425693155]])\n",
      "12 -0.0717140435143621 Matrix([[-0.0657420188939898], [0.0478780629640141], [-0.0182026229919406]])\n",
      "13 -0.0657420188939898 Matrix([[-0.0606890912873614], [0.0441103987692857], [-0.0169279295086026]])\n",
      "14 -0.0606890912873614 Matrix([[-0.0563583004595263], [0.0408662636295514], [-0.0158512793686849]])\n",
      "15 -0.0563583004595263 Matrix([[-0.0526052099737730], [0.0380400883355979], [-0.0149338659337777]])\n",
      "16 -0.0526052099737730 Matrix([[-0.0493214932475499], [0.0355527245894349], [-0.0141465599801512]])\n",
      "17 -0.0493214932475499 Matrix([[-0.0464243128314167], [0.0333436733616749], [-0.0134670633057283]])\n",
      "18 -0.0464243128314167 Matrix([[-0.0438492399705509], [0.0313659041265336], [-0.0128780109955078]])\n",
      "19 -0.0438492399705509 Matrix([[-0.0415454101220436], [0.0295823103693058], [-0.0123656728623710]])\n",
      "20 -0.0415454101220436 Matrix([[-0.0394721318359632], [0.0279632286207527], [-0.0119190443704305]])\n",
      "21 -0.0394721318359632 Matrix([[-0.0375964645408204], [0.0264846664729035], [-0.0115291972287602]])\n",
      "22 -0.0375964645408204 Matrix([[-0.0358914569425375], [0.0251270139638797], [-0.0111888070459989]])\n",
      "23 -0.0358914569425375 Matrix([[-0.0343348449785330], [0.0238740911982974], [-0.0108918041687191]])\n",
      "24 -0.0343348449785330 Matrix([[-0.0329080752885661], [0.0227124341178070], [-0.0106331117844505]])\n",
      "25 -0.0329080752885661 Matrix([[-0.0315955630566319], [0.0216307517261689], [-0.0104084468635631]])\n",
      "26 -0.0315955630566319 Matrix([[-0.0303841211232856], [0.0206195085967968], [-0.0102141670292103]])\n",
      "27 -0.0303841211232856 Matrix([[-0.0292625159644236], [0.0196706001726529], [-0.0100471514546302]])\n",
      "28 -0.0292625159644236 Matrix([[-0.0282211188195185], [0.0187770976522797], [-0.00990470728688501]])\n",
      "29 -0.0282211188195185 Matrix([[-0.0272516290019076], [0.0179330456582543], [-0.00978449544084669]])\n",
      "30 -0.0272516290019076 Matrix([[-0.0263468525484329], [0.0171333003659639], [-0.00968447124857731]])\n",
      "31 -0.0263468525484329 Matrix([[-0.0255005237122788], [0.0163733989510110], [-0.00960283661409803]])\n",
      "32 -0.0255005237122788 Matrix([[-0.0247071599269238], [0.0156494534994078], [-0.00953800116078584]])\n",
      "33 -0.0247071599269238 Matrix([[-0.0239619431411647], [0.0149580641871184], [-0.00948855046754707]])\n",
      "34 -0.0239619431411647 Matrix([[-0.0232606220957883], [0.0142962477578258], [-0.00945321993764561]])\n",
      "35 -0.0232606220957883 Matrix([[-0.0225994313534887], [0.0136613782357962], [-0.00943087317665976]])\n",
      "36 -0.0225994313534887 Matrix([[-0.0219750238243934], [0.0130511374916950], [-0.00942048400548272]])\n",
      "37 -0.0219750238243934 Matrix([[-0.0213844142339240], [0.0124634737945433], [-0.00942112142304162]])\n",
      "38 -0.0213844142339240 Matrix([[-0.0208249315172518], [0.0118965668762863], [-0.00943193697745583]])\n",
      "39 -0.0208249315172518 Matrix([[-0.0202941785380991], [0.0113487983379657], [-0.00945215411515210]])\n",
      "40 -0.0202941785380991 Matrix([[-0.0197899978500887], [0.0108187264609496], [-0.00948105916331415]])\n",
      "41 -0.0197899978500887 Matrix([[-0.0193104424689539], [0.0103050646696689], [-0.00951799366805029]])\n",
      "42 -0.0193104424689539 Matrix([[-0.0188537508204333], [0.00980666303608991], [-0.00956234786330427]])\n",
      "43 -0.0188537508204333 Matrix([[-0.0184183251840601], [0.00932249232985183], [-0.00961355508715342]])\n",
      "44 -0.0184183251840601 Matrix([[-0.0180027130766512], [0.00885163020843264], [-0.00967108699524078]])\n",
      "45 -0.0180027130766512 Matrix([[-0.0176055911181843], [0.00839324921406097], [-0.00973444944756805]])\n",
      "46 -0.0176055911181843 Matrix([[-0.0172257510022818], [0.00794660630228769], [-0.00980317896617497]])\n",
      "47 -0.0172257510022818 Matrix([[-0.0168620872578258], [0.00751103367418124], [-0.00987683967845238]])\n",
      "48 -0.0168620872578258 Matrix([[-0.0165135865404728], [0.00708593072233595], [-0.00995502067483144]])\n",
      "49 -0.0165135865404728 Matrix([[-0.0161793182354901], [0.00667075693208303], [-0.0100373337210206]])\n",
      "50 -0.0161793182354901 Matrix([[-0.0158584261883049], [0.00626502560487186], [-0.0101234112743396]])\n",
      "51 -0.0158584261883049 Matrix([[-0.0155501214079623], [0.00586829829184650], [-0.0102129047614291]])\n",
      "52 -0.0155501214079623 Matrix([[-0.0152536756125038], [0.00548017984304667], [-0.0103054830810173]])\n",
      "53 -0.0152536756125038 Matrix([[-0.0149684155050491], [0.00510031399210158], [-0.0104008313007455]])\n",
      "54 -0.0149684155050491 Matrix([[-0.0146937176858424], [0.00472837940830720], [-0.0104986495215048]])\n",
      "55 -0.0146937176858424 Matrix([[-0.0144290041193057], [0.00436408615802070], [-0.0105986518864644]])\n",
      "56 -0.0144290041193057 Matrix([[-0.0141737380867063], [0.00400717252572254], [-0.0107005657151197]])\n",
      "57 -0.0141737380867063 Matrix([[-0.0139274205647868], [0.00365740215217156], [-0.0108041307453454]])\n",
      "58 -0.0139274205647868 Matrix([[-0.0136895869789339], [0.00331456145304212], [-0.0109090984687038]])\n",
      "59 -0.0136895869789339 Matrix([[-0.0134598042864369], [0.00297845728647208], [-0.0110152315461862]])\n",
      "60 -0.0134598042864369 Matrix([[-0.0132376683513129], [0.00264891484222087], [-0.0111223032932233]])\n",
      "61 -0.0132376683513129 Matrix([[-0.0130228015772295], [0.00232577572876282], [-0.0112300972242219]])\n",
      "62 -0.0130228015772295 Matrix([[-0.0128148507693765], [0.00200889623772705], [-0.0113384066481215]])\n",
      "63 -0.0128148507693765 Matrix([[-0.0126134851998377], [0.00169814576772657], [-0.0114470343075275]])\n",
      "64 -0.0126134851998377 Matrix([[-0.0124183948541990], [0.00139340539186794], [-0.0115557920549176]])\n",
      "65 -0.0124183948541990 Matrix([[-0.0122292888398686], [0.00109456655515696], [-0.0116645005602261]])\n",
      "66 -0.0122292888398686 Matrix([[-0.0120458939389523], [0.000801529889666217], [-0.0117729890448324]])\n",
      "67 -0.0120458939389523 Matrix([[-0.0118679532905779], [0.000514204136747235], [-0.0118810950376074]])\n",
      "68 -0.0118810950376074 Matrix([[-0.0116822890340100], [0.000232247991497432], [-0.0119754034193946]])\n"
     ]
    },
    {
     "data": {
      "text/plain": [
       "(Matrix([\n",
       " [   0.97552363163733],\n",
       " [-0.0193937509546691],\n",
       " [                1.0]]),\n",
       " -0.0119754034193946)"
      ]
     },
     "execution_count": 24,
     "metadata": {},
     "output_type": "execute_result"
    }
   ],
   "source": [
    "def impmethod(A,x):\n",
    "    r = 0\n",
    "    I = np.identity(3)\n",
    "    for i in range(100):\n",
    "        m = np.argmax(abs(x))\n",
    "        nr = x[m]\n",
    "        y = x / nr\n",
    "        A = A - 1.2679*I\n",
    "        x = A.solve(y)\n",
    "        if abs(nr-r)<0.0001:\n",
    "            return y , nr\n",
    "        r = nr\n",
    "        print(i,r,x)\n",
    "        \n",
    "\n",
    "\n",
    "import sympy as sp\n",
    "A= sp.Matrix([[2,1,0],[1,3,1],[0,1,4]])\n",
    "\n",
    "x=sp.Matrix([1,0,0])\n",
    "\n",
    "impmethod(A,x)"
   ]
  },
  {
   "cell_type": "code",
   "execution_count": null,
   "metadata": {},
   "outputs": [],
   "source": [
    "# y=sp.Matrix([1,0,0])\n",
    "# z=L**(-1)*y\n",
    "# x=U**(-1)*z\n",
    "\n",
    "import sympy as sp\n",
    "A= sp.Matrix([[2,1,0],[1,3,1],[0,1,4]])\n",
    "I = np.identity(3)\n",
    "A = A - 1.2679*I\n",
    "L, U, _ = A.LUdecomposition()\n",
    "print(L)\n",
    "print(U)\n",
    "b=sp.Matrix([1,0,0])\n",
    "\n",
    "x = A.solve(b)\n",
    "\n",
    "print(x)\n",
    "print(A)"
   ]
  },
  {
   "cell_type": "code",
   "execution_count": 41,
   "metadata": {},
   "outputs": [
    {
     "data": {
      "text/plain": [
       "array([1.006, 2.213, 3.124])"
      ]
     },
     "execution_count": 41,
     "metadata": {},
     "output_type": "execute_result"
    }
   ],
   "source": [
    "\n",
    "List=[[1,2,3],[4,3,1],[2,3,5]]\n",
    "s=[1.00533,2.21223,3.12345]\n",
    "s=np.array(s)\n",
    "# x = [[round(i+0.0001,3)] for i in List] \n",
    "\n",
    "x=np.round(s+0.001,3)\n",
    "x"
   ]
  },
  {
   "cell_type": "code",
   "execution_count": 47,
   "metadata": {},
   "outputs": [
    {
     "data": {
      "text/plain": [
       "array([1.00000817, 1.00000489, 1.00000523, ..., 0.99997759, 0.9999831 ,\n",
       "       0.99998364])"
      ]
     },
     "execution_count": 47,
     "metadata": {},
     "output_type": "execute_result"
    }
   ],
   "source": [
    "def dotA_x(x):\n",
    "    x=np.matrix.tolist(x)  #将x变为列表\n",
    "    x1=x[1::]+[0]    #当|i-j|=1时，A上三角矩阵 ✖ x后x的变化\n",
    "    x2=[0]+x[:-1]   #|i-j|=1时，A下三角矩阵 ✖ x后x的变化\n",
    "    x3=x[::-1]      #当 i+j=n+1，i!=n/2,i!=n+1 时A ✖ x 后x的变化\n",
    "    x3[50000]=0\n",
    "    x3[50001]=0\n",
    "    Ax=3*np.array(x)-np.array(x1)-np.array(x2)+1/2*np.array(x3)\n",
    "    return Ax\n",
    "    \n",
    "def congrad(b,x):\n",
    "    x=np.array(x)\n",
    "    r = b - dotA_x(x)\n",
    "    d0 = r\n",
    "    a0 = np.dot(r.T,r)/np.dot(d0.T,dotA_x(d0))\n",
    "    for i in range(100):\n",
    "        x = x + a0*d0\n",
    "        r = b - dotA_x(x)\n",
    "        beta = - np.dot(r.T,dotA_x(d0))/np.dot(d0.T,dotA_x(d0))\n",
    "        d = r + beta*d0\n",
    "        a = np.dot(r.T,d)/np.dot(d.T,dotA_x(d))\n",
    "        qr = np.linalg.norm(dotA_x(x) - b)\n",
    "        if qr <0.001:\n",
    "            return x\n",
    "        a0 = a\n",
    "        d0 = d\n",
    "        \n",
    "import numpy as np\n",
    "b=[2.5]+[1.5]*49998+[1]*2+[1.5]*49998+[2.5]\n",
    "b=np.array(b)\n",
    "x=[1]+[0]*99999\n",
    "xn=congrad(b,x)\n",
    "xn\n"
   ]
  },
  {
   "cell_type": "code",
   "execution_count": 39,
   "metadata": {},
   "outputs": [
    {
     "name": "stdout",
     "output_type": "stream",
     "text": [
      "运算结果为：\n",
      "i1=8.147775166909105\n",
      "i2=4.07370109283503\n",
      "i3=2.0364775651784712\n",
      "i4=1.0174928201111482\n",
      "i5=0.5072544850993994\n",
      "i6=0.2506433926373503\n",
      "i7=0.11935399649397632\n",
      "i8=0.04774159859759053\n"
     ]
    }
   ],
   "source": [
    "A=[]\n",
    "L=[]\n",
    "U=[]\n",
    "Y=[]\n",
    "a=-2\n",
    "b=5\n",
    "c=-2          \n",
    "T=[]\n",
    "R=[]\n",
    "Answer_X=[]\n",
    "X=['i1','i2','i3','i4','i5','i6','i7','i8']\n",
    "f=[220/27,0,0,0,0,0,0,0]\n",
    "def agmA():\n",
    "    for i in range(8):\n",
    "        A.append([])\n",
    "        for j in range(8):\n",
    "            if i==j:\n",
    "                if i==0:\n",
    "                    A[i].append(2)\n",
    "                else:\n",
    "                    A[i].append(b)\n",
    "            elif i+1==j:\n",
    "                A[i].append(c)\n",
    "            elif i==j+1:\n",
    "                A[i].append(a)\n",
    "            else:\n",
    "                A[i].append(0)\n",
    "def LU(a,b,c):\n",
    "    R.append(2)\n",
    "    for i in range(1,8):\n",
    "        T.append(a/R[i-1])\n",
    "        R.append(b-c*T[i-1])\n",
    "def agmLU():\n",
    "    LU(a,b,c)\n",
    "    for i in range(8):\n",
    "        L.append([])\n",
    "        for j in range(8):\n",
    "            if i==j:\n",
    "                L[i].append(1)\n",
    "            elif i==j+1:\n",
    "                L[i].append(T[i-1])\n",
    "            else:\n",
    "                L[i].append(0)\n",
    "    for i in range(8):\n",
    "        U.append([])\n",
    "        for j in range(8):\n",
    "            if  i==j:\n",
    "                U[i].append(R[i])\n",
    "            elif i+1==j:\n",
    "                U[i].append(c)\n",
    "            else:\n",
    "                U[i].append(0)\n",
    "def CAL_Y():\n",
    "    Y.append(f[0]/R[0])\n",
    "    for i in range(7):\n",
    "        y=(f[i+1]-c*Y[i])/R[i+1]\n",
    "        Y.append(y)\n",
    "def CAL_X():\n",
    "    RE_X=[]\n",
    "    RE_X.append(Y[7])\n",
    "    for i in range(7):\n",
    "        RE_X.append(Y[8-i-2]-T[8-i-2]*RE_X[i])\n",
    "    for i in range(8):\n",
    "        Answer_X.append(RE_X[8-i-1])\n",
    "def print_Answer():\n",
    "    print(\"运算结果为：\")\n",
    "    for i in range(8):\n",
    "        print(\"{}={}\".format(X[i], Answer_X[i]))\n",
    "agmA()\n",
    "agmLU()\n",
    "CAL_Y()\n",
    "CAL_X()\n",
    "print_Answer()"
   ]
  },
  {
   "cell_type": "code",
   "execution_count": 19,
   "metadata": {},
   "outputs": [],
   "source": [
    "def agmA(n):\n",
    "    A=np.zeros((n,n))\n",
    "    for i in range(n):\n",
    "        for j in range(n):\n",
    "            A[i,j]=(1+0.1*(i+1))**(j+1-1)\n",
    "    return A\n",
    "def agmA1(n):\n",
    "    A1=np.zeros((n,n))\n",
    "    for i in range(n):\n",
    "        for j in range(n):\n",
    "            A1[i,j]=1/(i+1+j+1-1)\n",
    "    return A1\n",
    "def agmb(A,n):\n",
    "    b=np.zeros(n)\n",
    "    for i in range(n):\n",
    "        b[i]=sum(A[i])\n",
    "    return b\n",
    "def cond(A):\n",
    "    w,c=np.linalg.eig(A)\n",
    "    r1=max(abs(w))\n",
    "    r2=min(abs(w))\n",
    "    return np.sqrt(r1/r2)\n",
    "        "
   ]
  },
  {
   "cell_type": "code",
   "execution_count": 21,
   "metadata": {},
   "outputs": [
    {
     "name": "stdout",
     "output_type": "stream",
     "text": [
      "725.0942736310878 690.3674747862534\n",
      "887003.6323121213 4003106.5601386833\n",
      "1698904893.1389427 967971270.3424616\n"
     ]
    }
   ],
   "source": [
    "import numpy as np\n",
    "A1=agmA1(5)\n",
    "A=agmA(5)\n",
    "A1_1=agmA1(10)\n",
    "A_1=agmA(10)\n",
    "A1_2=agmA1(20)\n",
    "A_2=agmA(20)\n",
    "print(cond(A),cond(A1))\n",
    "print(cond(A_1),cond(A1_1))\n",
    "print(cond(A_2),cond(A1_2))"
   ]
  },
  {
   "cell_type": "code",
   "execution_count": 23,
   "metadata": {},
   "outputs": [
    {
     "name": "stdout",
     "output_type": "stream",
     "text": [
      "[1. 1. 1. 1. 1.]\n",
      "[1. 1. 1. 1. 1.]\n",
      "[1.00025416 0.99783769 1.00554276 0.99494171 0.99884033 1.00354004\n",
      " 0.99902344 1.         1.00012207 1.        ]\n",
      "[0.99940687 1.00179005 0.99782562 1.00136948 0.99952698 1.00006866\n",
      " 1.00000811 0.99999785 1.00000012 1.00000001]\n",
      "[-4.41844418e+01  9.14417908e+02 -5.12249512e+03  1.77805469e+04\n",
      " -4.80970000e+04  9.22710000e+04 -1.12148000e+05  7.76320000e+04\n",
      " -1.88800000e+04 -1.55520000e+04  1.91520000e+04 -1.26400000e+04\n",
      "  7.45600000e+03 -3.77600000e+03  1.05600000e+03  1.28000000e+02\n",
      " -1.44000000e+02  3.60000000e+01  8.00000000e+00 -4.00000000e+00]\n",
      "[-4.29337088e+08  1.34901350e+09 -2.22485709e+09  2.54164992e+09\n",
      " -2.06477722e+09  1.18941286e+09 -4.76184576e+08  1.23502592e+08\n",
      " -1.59662080e+07 -1.20012800e+06  9.67680000e+05 -1.99680000e+05\n",
      "  1.97120000e+04 -1.28000000e+02 -1.60000000e+02  1.20000000e+01\n",
      "  4.00000000e+00  4.06250000e-01  1.05517578e+00  9.97924805e-01]\n"
     ]
    }
   ],
   "source": [
    "b1=agmb(A1,5)\n",
    "b=agmb(A,5)\n",
    "b1_1=agmb(A1_1,10)\n",
    "b_1=agmb(A_1,10)\n",
    "b1_2=agmb(A1_2,20)\n",
    "b_2=agmb(A_2,20)\n",
    "x1=np.dot(np.linalg.inv(A1),b1)\n",
    "x=np.dot(np.linalg.inv(A),b)\n",
    "x1_1=np.dot(np.linalg.inv(A1_1),b1_1)\n",
    "x_1=np.dot(np.linalg.inv(A_1),b_1)\n",
    "x1_2=np.dot(np.linalg.inv(A1_2),b1_2)\n",
    "x_2=np.dot(np.linalg.inv(A_2),b_2)\n",
    "print(x1)\n",
    "print(x)\n",
    "print(x1_1)\n",
    "print(x_1)\n",
    "print(x1_2)\n",
    "print(x_2)"
   ]
  },
  {
   "cell_type": "code",
   "execution_count": 24,
   "metadata": {},
   "outputs": [
    {
     "name": "stdout",
     "output_type": "stream",
     "text": [
      "[ 1.00005769e+00  9.96392036e-01  1.06563872e+00  4.60956335e-01\n",
      "  3.39072609e+00 -5.22031975e+00  1.07748375e+01 -8.12395859e+00\n",
      "  5.65525007e+00  3.81469727e-04]\n",
      "[1.01387662 0.9186492  1.21020317 0.68382645 1.30534363 0.80388927\n",
      " 1.08368587 0.97712803 1.0036335  0.99974436]\n"
     ]
    }
   ],
   "source": [
    "A2=np.zeros((10,10))\n",
    "A2[1,1]=0.00000001\n",
    "A2[9,9]=0.00000001\n",
    "A1_1=A1_1+A2\n",
    "A_1=A_1+A2\n",
    "x1_1=np.dot(np.linalg.inv(A1_1),b1_1)\n",
    "x_1=np.dot(np.linalg.inv(A_1),b_1)\n",
    "print(x1_1)\n",
    "print(x_1)\n"
   ]
  },
  {
   "cell_type": "markdown",
   "metadata": {},
   "source": [
    "# 5"
   ]
  },
  {
   "cell_type": "code",
   "execution_count": 80,
   "metadata": {},
   "outputs": [
    {
     "data": {
      "text/latex": [
       "$\\displaystyle 7.65000000000146 x^{4} - 29.0850000000137 x^{3} + 44.6325000000215 x^{2} - 30.6237500000061 x + 8.42625000000044$"
      ],
      "text/plain": [
       "7.65000000000146*x**4 - 29.0850000000137*x**3 + 44.6325000000215*x**2 - 30.6237500000061*x + 8.42625000000044"
      ]
     },
     "execution_count": 80,
     "metadata": {},
     "output_type": "execute_result"
    }
   ],
   "source": [
    "def lagrange(xi,yi,x):\n",
    "    L = sp.Matrix([0])\n",
    "    for i in range(len(xi)):\n",
    "        l = sp.Matrix([1])  \n",
    "        for j in range(len(xi)):\n",
    "            if i != j:\n",
    "                l[0] = l[0] *(x - xi[j])/(xi[i] - xi[j])\n",
    "        L[0] = L[0] + l[0]*yi[i]\n",
    "    return L[0]\n",
    "\n",
    "\n",
    "import sympy as sp\n",
    "xi= sp.Matrix([1,1.1,1.2,1.3,1.4])\n",
    "#x=sp.Matrix([1.25])\n",
    "x=sp.Symbol('x')\n",
    "yi=sp.Matrix([1,1.23368,1.55271,1.99372,2.61170])\n",
    "L = lagrange(xi,yi,x)\n",
    "sp.simplify(L)"
   ]
  },
  {
   "cell_type": "code",
   "execution_count": 78,
   "metadata": {},
   "outputs": [
    {
     "data": {
      "text/latex": [
       "$\\displaystyle 8 x \\left(4 x^{4} + 20 x^{2} + 15\\right) e^{x^{2} - 1}$"
      ],
      "text/plain": [
       "8*x*(4*x**4 + 20*x**2 + 15)*exp(x**2 - 1)"
      ]
     },
     "execution_count": 78,
     "metadata": {},
     "output_type": "execute_result"
    }
   ],
   "source": [
    "x=sp.Symbol('x')\n",
    "y = sp.exp(x**2-1)\n",
    "d = sp.diff(y,x,5)\n",
    "#d.evalf(subs ={'x':1.25})\n",
    "d"
   ]
  },
  {
   "cell_type": "markdown",
   "metadata": {},
   "source": [
    "# 实验"
   ]
  },
  {
   "cell_type": "code",
   "execution_count": 1,
   "metadata": {},
   "outputs": [],
   "source": [
    "def Newton(xi,yi,x):\n",
    "    n = 10\n",
    "    L = sp.zeros(1)\n",
    "    L[0] =  yi[0]\n",
    "    for j in range(1,n+1):\n",
    "        l = sp.Matrix([1])\n",
    "        fi = yi\n",
    "        yi = sp.zeros(n-j+1,1)\n",
    "        for i in range(j,n+1):\n",
    "            yi[n-i] = (fi[n+1-i]-fi[n-i])/(xi[n+j-i]-xi[n-i])\n",
    "        for k in range(j):\n",
    "            l[0] = l[0]*(x-xi[k])\n",
    "        L[0] = L[0] + l[0]*yi[0]\n",
    "    return L[0]\n",
    "\n"
   ]
  },
  {
   "cell_type": "code",
   "execution_count": 2,
   "metadata": {},
   "outputs": [
    {
     "data": {
      "text/latex": [
       "$\\displaystyle - 4.95957630494614 \\cdot 10^{-5} x^{10} + 0.00274016590848274 x^{8} + 8.67361737988404 \\cdot 10^{-19} x^{7} - 0.0514215070767196 x^{6} + 0.392014985282312 x^{4} - 1.38777878078145 \\cdot 10^{-16} x^{3} - 1.14328404835103 x^{2} + 3.88578058618805 \\cdot 10^{-16} x + 1.0$"
      ],
      "text/plain": [
       "-4.95957630494614e-5*x**10 + 0.00274016590848274*x**8 + 8.67361737988404e-19*x**7 - 0.0514215070767196*x**6 + 0.392014985282312*x**4 - 1.38777878078145e-16*x**3 - 1.14328404835103*x**2 + 3.88578058618805e-16*x + 1.0"
      ]
     },
     "execution_count": 2,
     "metadata": {},
     "output_type": "execute_result"
    }
   ],
   "source": [
    "import sympy as sp\n",
    "xi = [i for i in range(-5,6)]  #取10个插值点\n",
    "yi = [1/(1+4*x*x) for x in xi]  #计算对应的值\n",
    "xi= sp.Matrix(xi)\n",
    "x=sp.Symbol('x')\n",
    "yi=sp.Matrix(yi)\n",
    "L = Newton(xi,yi,x)\n",
    "sp.simplify(L)"
   ]
  },
  {
   "cell_type": "code",
   "execution_count": 6,
   "metadata": {},
   "outputs": [
    {
     "data": {
      "image/png": "[encoded data removed]",
      "text/plain": [
       "<Figure size 432x288 with 1 Axes>"
      ]
     },
     "metadata": {
      "needs_background": "light"
     },
     "output_type": "display_data"
    }
   ],
   "source": [
    "import numpy as np\n",
    "import matplotlib.pyplot as plt\n",
    "xi = [i/10 for i in range(-50,50)]  #取99个插值点\n",
    "yi = [1/(1+4*x*x) for x in xi] \n",
    "L = sp.simplify(L)\n",
    "l = [L.evalf(subs ={'x':i}) for i in xi]\n",
    "l = np.array(l)\n",
    "error = l - yi\n",
    "plt.figure()    \n",
    "plt.rcParams['font.sans-serif']=['SimHei'] #显示中文标签\n",
    "plt.rcParams['axes.unicode_minus']=False\n",
    "plt.axis([-5.5,5.5,-1,5])\n",
    "plt.plot(xi, yi,  label='原函数', color='purple',linestyle=\"-\")\n",
    "plt.plot(xi, l,  label='Newton插值函数', color='green',linestyle=\"-\")\n",
    "plt.legend()\n",
    "plt.show()"
   ]
  },
  {
   "cell_type": "code",
   "execution_count": 8,
   "metadata": {
    "scrolled": true
   },
   "outputs": [
    {
     "data": {
      "image/png": "[encoded data removed]",
      "text/plain": [
       "<Figure size 432x288 with 1 Axes>"
      ]
     },
     "metadata": {
      "needs_background": "light"
     },
     "output_type": "display_data"
    }
   ],
   "source": [
    "error = l - yi\n",
    "plt.figure() \n",
    "plt.plot(xi,error,label='误差',color='red')\n",
    "plt.legend()\n",
    "plt.show()"
   ]
  },
  {
   "cell_type": "code",
   "execution_count": 7,
   "metadata": {
    "collapsed": true
   },
   "outputs": [
    {
     "ename": "ValueError",
     "evalue": "'*' is not a valid value for ls; supported values are '-', '--', '-.', ':', 'None', ' ', '', 'solid', 'dashed', 'dashdot', 'dotted'",
     "output_type": "error",
     "traceback": [
      "\u001b[1;31m---------------------------------------------------------------------------\u001b[0m",
      "\u001b[1;31mValueError\u001b[0m                                Traceback (most recent call last)",
      "\u001b[1;32m<ipython-input-7-aee7dd2c0a4d>\u001b[0m in \u001b[0;36m<module>\u001b[1;34m\u001b[0m\n\u001b[0;32m      9\u001b[0m \u001b[0mplt\u001b[0m\u001b[1;33m.\u001b[0m\u001b[0mfigure\u001b[0m\u001b[1;33m(\u001b[0m\u001b[1;33m)\u001b[0m\u001b[1;33m\u001b[0m\u001b[0m\n\u001b[0;32m     10\u001b[0m \u001b[0mplt\u001b[0m\u001b[1;33m.\u001b[0m\u001b[0mplot\u001b[0m\u001b[1;33m(\u001b[0m\u001b[0mx\u001b[0m\u001b[1;33m,\u001b[0m \u001b[0my\u001b[0m\u001b[1;33m,\u001b[0m  \u001b[0mlabel\u001b[0m\u001b[1;33m=\u001b[0m\u001b[1;34m'原函数'\u001b[0m\u001b[1;33m,\u001b[0m \u001b[0mcolor\u001b[0m\u001b[1;33m=\u001b[0m\u001b[1;34m'purple'\u001b[0m\u001b[1;33m,\u001b[0m\u001b[0mlinestyle\u001b[0m\u001b[1;33m=\u001b[0m\u001b[1;34m\"-\"\u001b[0m\u001b[1;33m)\u001b[0m\u001b[1;33m\u001b[0m\u001b[0m\n\u001b[1;32m---> 11\u001b[1;33m \u001b[0mplt\u001b[0m\u001b[1;33m.\u001b[0m\u001b[0mplot\u001b[0m\u001b[1;33m(\u001b[0m\u001b[0mxi\u001b[0m\u001b[1;33m,\u001b[0m \u001b[0ml\u001b[0m\u001b[1;33m,\u001b[0m  \u001b[0mlabel\u001b[0m\u001b[1;33m=\u001b[0m\u001b[1;34m'Newton插值函数'\u001b[0m\u001b[1;33m,\u001b[0m \u001b[0mcolor\u001b[0m\u001b[1;33m=\u001b[0m\u001b[1;34m'green'\u001b[0m\u001b[1;33m,\u001b[0m\u001b[0mlinestyle\u001b[0m\u001b[1;33m=\u001b[0m\u001b[1;34m\"*\"\u001b[0m\u001b[1;33m)\u001b[0m\u001b[1;33m\u001b[0m\u001b[0m\n\u001b[0m\u001b[0;32m     12\u001b[0m \u001b[0mplt\u001b[0m\u001b[1;33m.\u001b[0m\u001b[0mlegend\u001b[0m\u001b[1;33m(\u001b[0m\u001b[1;33m)\u001b[0m\u001b[1;33m\u001b[0m\u001b[0m\n\u001b[0;32m     13\u001b[0m \u001b[0mplt\u001b[0m\u001b[1;33m.\u001b[0m\u001b[0mshow\u001b[0m\u001b[1;33m(\u001b[0m\u001b[1;33m)\u001b[0m\u001b[1;33m\u001b[0m\u001b[0m\n",
      "\u001b[1;32mD:\\python\\Lib\\site-packages\\matplotlib\\pyplot.py\u001b[0m in \u001b[0;36mplot\u001b[1;34m(scalex, scaley, data, *args, **kwargs)\u001b[0m\n\u001b[0;32m   2840\u001b[0m     return gca().plot(\n\u001b[0;32m   2841\u001b[0m         \u001b[1;33m*\u001b[0m\u001b[0margs\u001b[0m\u001b[1;33m,\u001b[0m \u001b[0mscalex\u001b[0m\u001b[1;33m=\u001b[0m\u001b[0mscalex\u001b[0m\u001b[1;33m,\u001b[0m \u001b[0mscaley\u001b[0m\u001b[1;33m=\u001b[0m\u001b[0mscaley\u001b[0m\u001b[1;33m,\u001b[0m\u001b[1;33m\u001b[0m\u001b[0m\n\u001b[1;32m-> 2842\u001b[1;33m         **({\"data\": data} if data is not None else {}), **kwargs)\n\u001b[0m\u001b[0;32m   2843\u001b[0m \u001b[1;33m\u001b[0m\u001b[0m\n\u001b[0;32m   2844\u001b[0m \u001b[1;33m\u001b[0m\u001b[0m\n",
      "\u001b[1;32mD:\\python\\Lib\\site-packages\\matplotlib\\axes\\_axes.py\u001b[0m in \u001b[0;36mplot\u001b[1;34m(self, scalex, scaley, data, *args, **kwargs)\u001b[0m\n\u001b[0;32m   1741\u001b[0m         \"\"\"\n\u001b[0;32m   1742\u001b[0m         \u001b[0mkwargs\u001b[0m \u001b[1;33m=\u001b[0m \u001b[0mcbook\u001b[0m\u001b[1;33m.\u001b[0m\u001b[0mnormalize_kwargs\u001b[0m\u001b[1;33m(\u001b[0m\u001b[0mkwargs\u001b[0m\u001b[1;33m,\u001b[0m \u001b[0mmlines\u001b[0m\u001b[1;33m.\u001b[0m\u001b[0mLine2D\u001b[0m\u001b[1;33m)\u001b[0m\u001b[1;33m\u001b[0m\u001b[0m\n\u001b[1;32m-> 1743\u001b[1;33m         \u001b[0mlines\u001b[0m \u001b[1;33m=\u001b[0m \u001b[1;33m[\u001b[0m\u001b[1;33m*\u001b[0m\u001b[0mself\u001b[0m\u001b[1;33m.\u001b[0m\u001b[0m_get_lines\u001b[0m\u001b[1;33m(\u001b[0m\u001b[1;33m*\u001b[0m\u001b[0margs\u001b[0m\u001b[1;33m,\u001b[0m \u001b[0mdata\u001b[0m\u001b[1;33m=\u001b[0m\u001b[0mdata\u001b[0m\u001b[1;33m,\u001b[0m \u001b[1;33m**\u001b[0m\u001b[0mkwargs\u001b[0m\u001b[1;33m)\u001b[0m\u001b[1;33m]\u001b[0m\u001b[1;33m\u001b[0m\u001b[0m\n\u001b[0m\u001b[0;32m   1744\u001b[0m         \u001b[1;32mfor\u001b[0m \u001b[0mline\u001b[0m \u001b[1;32min\u001b[0m \u001b[0mlines\u001b[0m\u001b[1;33m:\u001b[0m\u001b[1;33m\u001b[0m\u001b[0m\n\u001b[0;32m   1745\u001b[0m             \u001b[0mself\u001b[0m\u001b[1;33m.\u001b[0m\u001b[0madd_line\u001b[0m\u001b[1;33m(\u001b[0m\u001b[0mline\u001b[0m\u001b[1;33m)\u001b[0m\u001b[1;33m\u001b[0m\u001b[0m\n",
      "\u001b[1;32mD:\\python\\Lib\\site-packages\\matplotlib\\axes\\_base.py\u001b[0m in \u001b[0;36m__call__\u001b[1;34m(self, data, *args, **kwargs)\u001b[0m\n\u001b[0;32m    271\u001b[0m                 \u001b[0mthis\u001b[0m \u001b[1;33m+=\u001b[0m \u001b[0margs\u001b[0m\u001b[1;33m[\u001b[0m\u001b[1;36m0\u001b[0m\u001b[1;33m]\u001b[0m\u001b[1;33m,\u001b[0m\u001b[1;33m\u001b[0m\u001b[0m\n\u001b[0;32m    272\u001b[0m                 \u001b[0margs\u001b[0m \u001b[1;33m=\u001b[0m \u001b[0margs\u001b[0m\u001b[1;33m[\u001b[0m\u001b[1;36m1\u001b[0m\u001b[1;33m:\u001b[0m\u001b[1;33m]\u001b[0m\u001b[1;33m\u001b[0m\u001b[0m\n\u001b[1;32m--> 273\u001b[1;33m             \u001b[1;32myield\u001b[0m \u001b[1;32mfrom\u001b[0m \u001b[0mself\u001b[0m\u001b[1;33m.\u001b[0m\u001b[0m_plot_args\u001b[0m\u001b[1;33m(\u001b[0m\u001b[0mthis\u001b[0m\u001b[1;33m,\u001b[0m \u001b[0mkwargs\u001b[0m\u001b[1;33m)\u001b[0m\u001b[1;33m\u001b[0m\u001b[0m\n\u001b[0m\u001b[0;32m    274\u001b[0m \u001b[1;33m\u001b[0m\u001b[0m\n\u001b[0;32m    275\u001b[0m     \u001b[1;32mdef\u001b[0m \u001b[0mget_next_color\u001b[0m\u001b[1;33m(\u001b[0m\u001b[0mself\u001b[0m\u001b[1;33m)\u001b[0m\u001b[1;33m:\u001b[0m\u001b[1;33m\u001b[0m\u001b[0m\n",
      "\u001b[1;32mD:\\python\\Lib\\site-packages\\matplotlib\\axes\\_base.py\u001b[0m in \u001b[0;36m_plot_args\u001b[1;34m(self, tup, kwargs)\u001b[0m\n\u001b[0;32m    417\u001b[0m             \u001b[1;32mraise\u001b[0m \u001b[0mValueError\u001b[0m\u001b[1;33m(\u001b[0m\u001b[1;34mf\"x has {ncx} columns but y has {ncy} columns\"\u001b[0m\u001b[1;33m)\u001b[0m\u001b[1;33m\u001b[0m\u001b[0m\n\u001b[0;32m    418\u001b[0m         return [func(x[:, j % ncx], y[:, j % ncy], kw, kwargs)\n\u001b[1;32m--> 419\u001b[1;33m                 for j in range(max(ncx, ncy))]\n\u001b[0m\u001b[0;32m    420\u001b[0m \u001b[1;33m\u001b[0m\u001b[0m\n\u001b[0;32m    421\u001b[0m \u001b[1;33m\u001b[0m\u001b[0m\n",
      "\u001b[1;32mD:\\python\\Lib\\site-packages\\matplotlib\\axes\\_base.py\u001b[0m in \u001b[0;36m<listcomp>\u001b[1;34m(.0)\u001b[0m\n\u001b[0;32m    417\u001b[0m             \u001b[1;32mraise\u001b[0m \u001b[0mValueError\u001b[0m\u001b[1;33m(\u001b[0m\u001b[1;34mf\"x has {ncx} columns but y has {ncy} columns\"\u001b[0m\u001b[1;33m)\u001b[0m\u001b[1;33m\u001b[0m\u001b[0m\n\u001b[0;32m    418\u001b[0m         return [func(x[:, j % ncx], y[:, j % ncy], kw, kwargs)\n\u001b[1;32m--> 419\u001b[1;33m                 for j in range(max(ncx, ncy))]\n\u001b[0m\u001b[0;32m    420\u001b[0m \u001b[1;33m\u001b[0m\u001b[0m\n\u001b[0;32m    421\u001b[0m \u001b[1;33m\u001b[0m\u001b[0m\n",
      "\u001b[1;32mD:\\python\\Lib\\site-packages\\matplotlib\\axes\\_base.py\u001b[0m in \u001b[0;36m_makeline\u001b[1;34m(self, x, y, kw, kwargs)\u001b[0m\n\u001b[0;32m    310\u001b[0m         \u001b[0mdefault_dict\u001b[0m \u001b[1;33m=\u001b[0m \u001b[0mself\u001b[0m\u001b[1;33m.\u001b[0m\u001b[0m_getdefaults\u001b[0m\u001b[1;33m(\u001b[0m\u001b[0mset\u001b[0m\u001b[1;33m(\u001b[0m\u001b[1;33m)\u001b[0m\u001b[1;33m,\u001b[0m \u001b[0mkw\u001b[0m\u001b[1;33m)\u001b[0m\u001b[1;33m\u001b[0m\u001b[0m\n\u001b[0;32m    311\u001b[0m         \u001b[0mself\u001b[0m\u001b[1;33m.\u001b[0m\u001b[0m_setdefaults\u001b[0m\u001b[1;33m(\u001b[0m\u001b[0mdefault_dict\u001b[0m\u001b[1;33m,\u001b[0m \u001b[0mkw\u001b[0m\u001b[1;33m)\u001b[0m\u001b[1;33m\u001b[0m\u001b[0m\n\u001b[1;32m--> 312\u001b[1;33m         \u001b[0mseg\u001b[0m \u001b[1;33m=\u001b[0m \u001b[0mmlines\u001b[0m\u001b[1;33m.\u001b[0m\u001b[0mLine2D\u001b[0m\u001b[1;33m(\u001b[0m\u001b[0mx\u001b[0m\u001b[1;33m,\u001b[0m \u001b[0my\u001b[0m\u001b[1;33m,\u001b[0m \u001b[1;33m**\u001b[0m\u001b[0mkw\u001b[0m\u001b[1;33m)\u001b[0m\u001b[1;33m\u001b[0m\u001b[0m\n\u001b[0m\u001b[0;32m    313\u001b[0m         \u001b[1;32mreturn\u001b[0m \u001b[0mseg\u001b[0m\u001b[1;33m\u001b[0m\u001b[0m\n\u001b[0;32m    314\u001b[0m \u001b[1;33m\u001b[0m\u001b[0m\n",
      "\u001b[1;32mD:\\python\\Lib\\site-packages\\matplotlib\\lines.py\u001b[0m in \u001b[0;36m__init__\u001b[1;34m(self, xdata, ydata, linewidth, linestyle, color, marker, markersize, markeredgewidth, markeredgecolor, markerfacecolor, markerfacecoloralt, fillstyle, antialiased, dash_capstyle, solid_capstyle, dash_joinstyle, solid_joinstyle, pickradius, drawstyle, markevery, **kwargs)\u001b[0m\n\u001b[0;32m    361\u001b[0m \u001b[1;33m\u001b[0m\u001b[0m\n\u001b[0;32m    362\u001b[0m         \u001b[0mself\u001b[0m\u001b[1;33m.\u001b[0m\u001b[0mset_linewidth\u001b[0m\u001b[1;33m(\u001b[0m\u001b[0mlinewidth\u001b[0m\u001b[1;33m)\u001b[0m\u001b[1;33m\u001b[0m\u001b[0m\n\u001b[1;32m--> 363\u001b[1;33m         \u001b[0mself\u001b[0m\u001b[1;33m.\u001b[0m\u001b[0mset_linestyle\u001b[0m\u001b[1;33m(\u001b[0m\u001b[0mlinestyle\u001b[0m\u001b[1;33m)\u001b[0m\u001b[1;33m\u001b[0m\u001b[0m\n\u001b[0m\u001b[0;32m    364\u001b[0m         \u001b[0mself\u001b[0m\u001b[1;33m.\u001b[0m\u001b[0mset_drawstyle\u001b[0m\u001b[1;33m(\u001b[0m\u001b[0mdrawstyle\u001b[0m\u001b[1;33m)\u001b[0m\u001b[1;33m\u001b[0m\u001b[0m\n\u001b[0;32m    365\u001b[0m \u001b[1;33m\u001b[0m\u001b[0m\n",
      "\u001b[1;32mD:\\python\\Lib\\site-packages\\matplotlib\\lines.py\u001b[0m in \u001b[0;36mset_linestyle\u001b[1;34m(self, ls)\u001b[0m\n\u001b[0;32m   1131\u001b[0m                 \u001b[0mls\u001b[0m \u001b[1;33m=\u001b[0m \u001b[1;34m'None'\u001b[0m\u001b[1;33m\u001b[0m\u001b[0m\n\u001b[0;32m   1132\u001b[0m \u001b[1;33m\u001b[0m\u001b[0m\n\u001b[1;32m-> 1133\u001b[1;33m             \u001b[0mcbook\u001b[0m\u001b[1;33m.\u001b[0m\u001b[0m_check_in_list\u001b[0m\u001b[1;33m(\u001b[0m\u001b[1;33m[\u001b[0m\u001b[1;33m*\u001b[0m\u001b[0mself\u001b[0m\u001b[1;33m.\u001b[0m\u001b[0m_lineStyles\u001b[0m\u001b[1;33m,\u001b[0m \u001b[1;33m*\u001b[0m\u001b[0mls_mapper_r\u001b[0m\u001b[1;33m]\u001b[0m\u001b[1;33m,\u001b[0m \u001b[0mls\u001b[0m\u001b[1;33m=\u001b[0m\u001b[0mls\u001b[0m\u001b[1;33m)\u001b[0m\u001b[1;33m\u001b[0m\u001b[0m\n\u001b[0m\u001b[0;32m   1134\u001b[0m             \u001b[1;32mif\u001b[0m \u001b[0mls\u001b[0m \u001b[1;32mnot\u001b[0m \u001b[1;32min\u001b[0m \u001b[0mself\u001b[0m\u001b[1;33m.\u001b[0m\u001b[0m_lineStyles\u001b[0m\u001b[1;33m:\u001b[0m\u001b[1;33m\u001b[0m\u001b[0m\n\u001b[0;32m   1135\u001b[0m                 \u001b[0mls\u001b[0m \u001b[1;33m=\u001b[0m \u001b[0mls_mapper_r\u001b[0m\u001b[1;33m[\u001b[0m\u001b[0mls\u001b[0m\u001b[1;33m]\u001b[0m\u001b[1;33m\u001b[0m\u001b[0m\n",
      "\u001b[1;32mD:\\python\\Lib\\site-packages\\matplotlib\\cbook\\__init__.py\u001b[0m in \u001b[0;36m_check_in_list\u001b[1;34m(_values, **kwargs)\u001b[0m\n\u001b[0;32m   2266\u001b[0m             raise ValueError(\n\u001b[0;32m   2267\u001b[0m                 \u001b[1;34m\"{!r} is not a valid value for {}; supported values are {}\"\u001b[0m\u001b[1;33m\u001b[0m\u001b[0m\n\u001b[1;32m-> 2268\u001b[1;33m                 .format(v, k, ', '.join(map(repr, values))))\n\u001b[0m\u001b[0;32m   2269\u001b[0m \u001b[1;33m\u001b[0m\u001b[0m\n\u001b[0;32m   2270\u001b[0m \u001b[1;33m\u001b[0m\u001b[0m\n",
      "\u001b[1;31mValueError\u001b[0m: '*' is not a valid value for ls; supported values are '-', '--', '-.', ':', 'None', ' ', '', 'solid', 'dashed', 'dashdot', 'dotted'"
     ]
    },
    {
     "data": {
      "image/png": "[encoded data removed]",
      "text/plain": [
       "<Figure size 432x288 with 1 Axes>"
      ]
     },
     "metadata": {
      "needs_background": "light"
     },
     "output_type": "display_data"
    }
   ],
   "source": [
    "import matplotlib.pyplot as plt  \n",
    "import numpy as np\n",
    "x = np.linspace(-5, 5, 500)\n",
    "xi = [i/10 for i in range(-50,50)]\n",
    "y = 1/(1+4*x*x)\n",
    "L = sp.simplify(L) #插值函数\n",
    "l = [L.evalf(subs ={'x':i}) for i in xi]  #计算插值函数的纵坐标值\n",
    "l = np.array(l)\n",
    "plt.figure()    \n",
    "plt.axis([-5.5,5.5,-1,5])\n",
    "plt.plot(x, y,  label='原函数', color='purple',linestyle=\"-\")\n",
    "plt.plot(xi, l,  label='Newton插值函数', color='green',linestyle=\"-\")\n",
    "plt.legend()\n",
    "plt.show()"
   ]
  },
  {
   "cell_type": "code",
   "execution_count": 10,
   "metadata": {
    "scrolled": true
   },
   "outputs": [
    {
     "name": "stderr",
     "output_type": "stream",
     "text": [
      "D:\\python\\Lib\\site-packages\\matplotlib\\backends\\backend_agg.py:238: RuntimeWarning: Glyph 21407 missing from current font.\n",
      "  font.set_text(s, 0.0, flags=flags)\n",
      "D:\\python\\Lib\\site-packages\\matplotlib\\backends\\backend_agg.py:238: RuntimeWarning: Glyph 20989 missing from current font.\n",
      "  font.set_text(s, 0.0, flags=flags)\n",
      "D:\\python\\Lib\\site-packages\\matplotlib\\backends\\backend_agg.py:238: RuntimeWarning: Glyph 25968 missing from current font.\n",
      "  font.set_text(s, 0.0, flags=flags)\n",
      "D:\\python\\Lib\\site-packages\\matplotlib\\backends\\backend_agg.py:238: RuntimeWarning: Glyph 25554 missing from current font.\n",
      "  font.set_text(s, 0.0, flags=flags)\n",
      "D:\\python\\Lib\\site-packages\\matplotlib\\backends\\backend_agg.py:238: RuntimeWarning: Glyph 20540 missing from current font.\n",
      "  font.set_text(s, 0.0, flags=flags)\n",
      "D:\\python\\Lib\\site-packages\\matplotlib\\backends\\backend_agg.py:201: RuntimeWarning: Glyph 21407 missing from current font.\n",
      "  font.set_text(s, 0, flags=flags)\n",
      "D:\\python\\Lib\\site-packages\\matplotlib\\backends\\backend_agg.py:201: RuntimeWarning: Glyph 20989 missing from current font.\n",
      "  font.set_text(s, 0, flags=flags)\n",
      "D:\\python\\Lib\\site-packages\\matplotlib\\backends\\backend_agg.py:201: RuntimeWarning: Glyph 25968 missing from current font.\n",
      "  font.set_text(s, 0, flags=flags)\n",
      "D:\\python\\Lib\\site-packages\\matplotlib\\backends\\backend_agg.py:201: RuntimeWarning: Glyph 25554 missing from current font.\n",
      "  font.set_text(s, 0, flags=flags)\n",
      "D:\\python\\Lib\\site-packages\\matplotlib\\backends\\backend_agg.py:201: RuntimeWarning: Glyph 20540 missing from current font.\n",
      "  font.set_text(s, 0, flags=flags)\n"
     ]
    },
    {
     "data": {
      "image/png": "[encoded data removed]",
      "text/plain": [
       "<Figure size 432x288 with 1 Axes>"
      ]
     },
     "metadata": {
      "needs_background": "light"
     },
     "output_type": "display_data"
    }
   ],
   "source": [
    "plt.figure()  \n",
    "plt.axis([-5.5,5.5,-1,5])\n",
    "plt.plot(x, y,  label='原函数', color='purple',linestyle=\"-\")\n",
    "plt.plot(xi, l,  label='Newton插值函数', color='green',linestyle=\"--\")\n",
    "plt.legend()\n",
    "plt.show()"
   ]
  },
  {
   "cell_type": "code",
   "execution_count": 57,
   "metadata": {},
   "outputs": [],
   "source": [
    "x = np.linspace(-5, 5, 100)\n",
    "y = 1/(1+4*x*x)\n",
    "L = sp.simplify(L) #插值函数\n",
    "l = [L.evalf(subs ={'x':i}) for i in x]"
   ]
  },
  {
   "cell_type": "code",
   "execution_count": 59,
   "metadata": {},
   "outputs": [
    {
     "data": {
      "text/plain": [
       "array([0.00990099, 0.01030923, 0.01074316, 0.01120497, 0.01169709,\n",
       "       0.01222221, 0.01278334, 0.01338384, 0.01402746, 0.0147184 ,\n",
       "       0.0154614 , 0.01626179, 0.0171256 , 0.01805967, 0.01907177,\n",
       "       0.02017078, 0.02136686, 0.0226717 , 0.02409879, 0.02566372,\n",
       "       0.02738467, 0.02928285, 0.03138318, 0.03371505, 0.03631331,\n",
       "       0.03921953, 0.04248356, 0.04616559, 0.05033872, 0.05509244,\n",
       "       0.06053699, 0.06680936, 0.07408107, 0.08256881, 0.0925487 ,\n",
       "       0.10437589, 0.11851126, 0.13555829, 0.1563133 , 0.18183336,\n",
       "       0.21352476, 0.25324927, 0.30342714, 0.3670649 , 0.44751381,\n",
       "       0.54751131, 0.66668934, 0.79676449, 0.91589571, 0.98990001,\n",
       "       0.98990001, 0.91589571, 0.79676449, 0.66668934, 0.54751131,\n",
       "       0.44751381, 0.3670649 , 0.30342714, 0.25324927, 0.21352476,\n",
       "       0.18183336, 0.1563133 , 0.13555829, 0.11851126, 0.10437589,\n",
       "       0.0925487 , 0.08256881, 0.07408107, 0.06680936, 0.06053699,\n",
       "       0.05509244, 0.05033872, 0.04616559, 0.04248356, 0.03921953,\n",
       "       0.03631331, 0.03371505, 0.03138318, 0.02928285, 0.02738467,\n",
       "       0.02566372, 0.02409879, 0.0226717 , 0.02136686, 0.02017078,\n",
       "       0.01907177, 0.01805967, 0.0171256 , 0.01626179, 0.0154614 ,\n",
       "       0.0147184 , 0.01402746, 0.01338384, 0.01278334, 0.01222221,\n",
       "       0.01169709, 0.01120497, 0.01074316, 0.01030923, 0.00990099])"
      ]
     },
     "execution_count": 59,
     "metadata": {},
     "output_type": "execute_result"
    }
   ],
   "source": [
    "y"
   ]
  },
  {
   "cell_type": "code",
   "execution_count": 3,
   "metadata": {},
   "outputs": [
    {
     "name": "stdout",
     "output_type": "stream",
     "text": [
      "Matrix([[2.50473684210528], [2.79588235294117], [2.99714285714285]])\n",
      "Matrix([[3.34650012455052], [1.03742527939012]])\n",
      "Matrix([[-10.8407269725841]])\n"
     ]
    }
   ],
   "source": [
    "n = 3\n",
    "xi= sp.Matrix([1.615,1.634,1.702,1.828])\n",
    "#x=sp.Matrix([1.25])\n",
    "x=sp.Symbol('x')\n",
    "yi=sp.Matrix([2.4150,2.46259,2.65271,3.03035])\n",
    "for j in range(1,n+1):\n",
    "    fi = yi\n",
    "    yi = sp.zeros(n-j+1,1)\n",
    "    for i in range(j,n+1):\n",
    "        yi[n-i] = (fi[n+1-i]-fi[n-i])/(xi[n+j-i]-xi[n-i])\n",
    "    print(yi)\n",
    "\n"
   ]
  },
  {
   "cell_type": "code",
   "execution_count": 9,
   "metadata": {},
   "outputs": [
    {
     "data": {
      "text/latex": [
       "$\\displaystyle 1$"
      ],
      "text/plain": [
       "1"
      ]
     },
     "execution_count": 9,
     "metadata": {},
     "output_type": "execute_result"
    }
   ],
   "source": [
    "yi=sp.Matrix([1,1.23368,1.55271,1.99372,2.61170,3.49034])\n",
    "L = sp.zeros(1)\n",
    "L[0] = L[0] + yi[0]\n",
    "L[0]"
   ]
  },
  {
   "cell_type": "markdown",
   "metadata": {},
   "source": [
    "#差分\n"
   ]
  },
  {
   "cell_type": "code",
   "execution_count": 33,
   "metadata": {},
   "outputs": [
    {
     "name": "stdout",
     "output_type": "stream",
     "text": [
      "Matrix([[0.0342800000000000], [0.0247300000000000], [0.0149300000000000], [0.00500000000000000]])\n",
      "Matrix([[-0.00954999999999995], [-0.00980000000000003], [-0.00992999999999999]])\n",
      "Matrix([[-0.000250000000000083], [-0.000129999999999963]])\n",
      "Matrix([[0.000120000000000120]])\n"
     ]
    }
   ],
   "source": [
    "n = 4\n",
    "xi= sp.Matrix([0,0.1,0.2,0.3,0.4])\n",
    "xi= xi[::-1]\n",
    "#x=sp.Matrix([1.25])\n",
    "x=sp.Symbol('x')\n",
    "yi=sp.Matrix([1,0.99500,0.98007,0.95534,0.92106])\n",
    "yi=yi[::-1]\n",
    "for j in range(1,n+1):\n",
    "    fi = yi\n",
    "    yi = sp.zeros(n-j+1,1)\n",
    "    for i in range(j,n+1):\n",
    "        yi[n-i] =-(fi[n-i]-fi[n+1-i])\n",
    "    print(yi)\n"
   ]
  },
  {
   "cell_type": "code",
   "execution_count": 35,
   "metadata": {},
   "outputs": [
    {
     "data": {
      "text/latex": [
       "$\\displaystyle 0.839193803710938$"
      ],
      "text/plain": [
       "0.839193803710938"
      ]
     },
     "execution_count": 35,
     "metadata": {},
     "output_type": "execute_result"
    }
   ],
   "source": [
    "def Newton(xi,yi,t):\n",
    "    n = 4\n",
    "    L = sp.zeros(1)\n",
    "    L[0] =  yi[0]\n",
    "    for j in range(1,n+1):\n",
    "        l = sp.Matrix([1])\n",
    "        fi = yi\n",
    "        yi = sp.zeros(n-j+1,1)\n",
    "        for i in range(j,n+1):\n",
    "            #yi[n-i] = fi[n-i]-fi[n+1-i]\n",
    "            yi[n-i] = -fi[n-i]+fi[n+1-i]\n",
    "        for k in range(1,j+1):\n",
    "            l[0] = l[0]*(t-k+1)/k\n",
    "        L[0] = L[0] + l[0]*yi[0]\n",
    "    return L[0]\n",
    "\n",
    "        \n",
    "import sympy as sp\n",
    "xi= sp.Matrix([0.2,0.3,0.4,0.5,0.6])\n",
    "#x=sp.Matrix([1.25])\n",
    "t=sp.Symbol('t')\n",
    "yi=sp.Matrix([0.98007,0.95534,0.92106,0.87758,0.82534])\n",
    "L = Newton(xi[::-1],yi[::-1],0.25)\n",
    "sp.simplify(L)"
   ]
  },
  {
   "cell_type": "code",
   "execution_count": 16,
   "metadata": {},
   "outputs": [
    {
     "data": {
      "text/plain": [
       "[0.400000000000000, 0.300000000000000, 0.200000000000000, 0.100000000000000, 0]"
      ]
     },
     "execution_count": 16,
     "metadata": {},
     "output_type": "execute_result"
    }
   ],
   "source": [
    "xi= sp.Matrix([0,0.1,0.2,0.3,0.4])\n",
    "xi[::-1]"
   ]
  },
  {
   "cell_type": "code",
   "execution_count": 5,
   "metadata": {},
   "outputs": [
    {
     "data": {
      "text/latex": [
       "$\\displaystyle 0.765789386446486$"
      ],
      "text/plain": [
       "0.765789386446486"
      ]
     },
     "execution_count": 5,
     "metadata": {},
     "output_type": "execute_result"
    }
   ],
   "source": [
    "import sympy as sp\n",
    "x=sp.Symbol('x')\n",
    "y = 3*x*sp.exp(x) - sp.exp(2*x)\n",
    "d = sp.diff(y,x,1)\n",
    "y.evalf(subs ={'x':1})"
   ]
  },
  {
   "cell_type": "code",
   "execution_count": 12,
   "metadata": {},
   "outputs": [],
   "source": [
    "l0 = -20*(x - 1.05)\n",
    "l1 = 20*(x - 1)\n",
    "d0 = sp.diff(l0,x,1)\n",
    "d1 = sp.diff(l1,x,1)\n",
    "xi=sp.Symbol('xi')\n",
    "h0 = (1-2*d0*(x-1))*l0*l0\n",
    "h1 = (1-2*d1*(x-1.05))*l1*l1\n",
    "H0 = (x-1)*l0*l0\n",
    "H1 = (x-1.05)*l1*l1"
   ]
  },
  {
   "cell_type": "code",
   "execution_count": 23,
   "metadata": {},
   "outputs": [
    {
     "data": {
      "text/latex": [
       "$\\displaystyle - 4.08000000000038 x^{3} + 9.65199999999959 x^{2} - 5.53240000000369 x + 0.726200000000063$"
      ],
      "text/plain": [
       "-4.08000000000038*x**3 + 9.65199999999959*x**2 - 5.53240000000369*x + 0.726200000000063"
      ]
     },
     "execution_count": 23,
     "metadata": {},
     "output_type": "execute_result"
    }
   ],
   "source": [
    "H = 0.7658*sp.expand(h0)+0.8354*sp.expand(h1)+1.5316*sp.expand(H0)+1.2422*sp.expand(H1)\n",
    "sp.expand(H)"
   ]
  },
  {
   "cell_type": "code",
   "execution_count": 17,
   "metadata": {},
   "outputs": [
    {
     "data": {
      "text/latex": [
       "$\\displaystyle 400.0 x^{2} - 840.0 x + 441.0$"
      ],
      "text/plain": [
       "400.0*x**2 - 840.0*x + 441.0"
      ]
     },
     "execution_count": 17,
     "metadata": {},
     "output_type": "execute_result"
    }
   ],
   "source": [
    "sp.expand(l0**2)"
   ]
  },
  {
   "cell_type": "code",
   "execution_count": 25,
   "metadata": {},
   "outputs": [],
   "source": [
    "l0 = (x*x-3*x+2)/2\n",
    "l1 = -x*x+2*x\n",
    "l2 = (x*x-x)/2\n",
    "d0 = sp.diff(l0,x,1)\n",
    "d1 = sp.diff(l1,x,1)\n",
    "d2 = sp.diff(l2,x,1)\n",
    "h0 = (1-2*d0*(x-0))*l0*l0\n",
    "h1 = (1-2*d1*(x-1))*l1*l1\n",
    "h2 = (1-2*d2*(x-2))*l2*l2\n",
    "H1 = (x-1)*l1*l1\n",
    "H2 = (x-2)*l2*l2"
   ]
  },
  {
   "cell_type": "code",
   "execution_count": 30,
   "metadata": {},
   "outputs": [],
   "source": [
    "H = 1*sp.expand(h0)+2*sp.expand(h1)+1*sp.expand(h2)+0*sp.expand(H1)-1*sp.expand(H2)"
   ]
  },
  {
   "cell_type": "code",
   "execution_count": 31,
   "metadata": {},
   "outputs": [
    {
     "data": {
      "text/latex": [
       "$\\displaystyle 7 x^{6} - \\frac{169 x^{5}}{4} + 93 x^{4} - \\frac{357 x^{3}}{4} + \\frac{65 x^{2}}{2} + 1$"
      ],
      "text/plain": [
       "7*x**6 - 169*x**5/4 + 93*x**4 - 357*x**3/4 + 65*x**2/2 + 1"
      ]
     },
     "execution_count": 31,
     "metadata": {},
     "output_type": "execute_result"
    }
   ],
   "source": [
    "sp.expand(H)"
   ]
  },
  {
   "cell_type": "code",
   "execution_count": 33,
   "metadata": {},
   "outputs": [
    {
     "name": "stdout",
     "output_type": "stream",
     "text": [
      "-5\n",
      "-4\n",
      "-3\n",
      "-2\n",
      "-1\n",
      "0\n",
      "1\n",
      "2\n",
      "3\n",
      "4\n",
      "5\n"
     ]
    }
   ],
   "source": [
    "for i in range(-5,6):\n",
    "    print(i)"
   ]
  },
  {
   "cell_type": "code",
   "execution_count": 35,
   "metadata": {},
   "outputs": [
    {
     "data": {
      "text/plain": [
       "[-5.0,\n",
       " -4.9,\n",
       " -4.8,\n",
       " -4.7,\n",
       " -4.6,\n",
       " -4.5,\n",
       " -4.4,\n",
       " -4.3,\n",
       " -4.2,\n",
       " -4.1,\n",
       " -4.0,\n",
       " -3.9,\n",
       " -3.8,\n",
       " -3.7,\n",
       " -3.6,\n",
       " -3.5,\n",
       " -3.4,\n",
       " -3.3,\n",
       " -3.2,\n",
       " -3.1,\n",
       " -3.0,\n",
       " -2.9,\n",
       " -2.8,\n",
       " -2.7,\n",
       " -2.6,\n",
       " -2.5,\n",
       " -2.4,\n",
       " -2.3,\n",
       " -2.2,\n",
       " -2.1,\n",
       " -2.0,\n",
       " -1.9,\n",
       " -1.8,\n",
       " -1.7,\n",
       " -1.6,\n",
       " -1.5,\n",
       " -1.4,\n",
       " -1.3,\n",
       " -1.2,\n",
       " -1.1,\n",
       " -1.0,\n",
       " -0.9,\n",
       " -0.8,\n",
       " -0.7,\n",
       " -0.6,\n",
       " -0.5,\n",
       " -0.4,\n",
       " -0.3,\n",
       " -0.2,\n",
       " -0.1,\n",
       " 0.0,\n",
       " 0.1,\n",
       " 0.2,\n",
       " 0.3,\n",
       " 0.4,\n",
       " 0.5,\n",
       " 0.6,\n",
       " 0.7,\n",
       " 0.8,\n",
       " 0.9,\n",
       " 1.0,\n",
       " 1.1,\n",
       " 1.2,\n",
       " 1.3,\n",
       " 1.4,\n",
       " 1.5,\n",
       " 1.6,\n",
       " 1.7,\n",
       " 1.8,\n",
       " 1.9,\n",
       " 2.0,\n",
       " 2.1,\n",
       " 2.2,\n",
       " 2.3,\n",
       " 2.4,\n",
       " 2.5,\n",
       " 2.6,\n",
       " 2.7,\n",
       " 2.8,\n",
       " 2.9,\n",
       " 3.0,\n",
       " 3.1,\n",
       " 3.2,\n",
       " 3.3,\n",
       " 3.4,\n",
       " 3.5,\n",
       " 3.6,\n",
       " 3.7,\n",
       " 3.8,\n",
       " 3.9,\n",
       " 4.0,\n",
       " 4.1,\n",
       " 4.2,\n",
       " 4.3,\n",
       " 4.4,\n",
       " 4.5,\n",
       " 4.6,\n",
       " 4.7,\n",
       " 4.8,\n",
       " 4.9]"
      ]
     },
     "execution_count": 35,
     "metadata": {},
     "output_type": "execute_result"
    }
   ],
   "source": [
    "i = [i/10 for i in range(-50,50)]\n",
    "i"
   ]
  },
  {
   "cell_type": "code",
   "execution_count": null,
   "metadata": {},
   "outputs": [],
   "source": []
  }
 ],
 "metadata": {
  "kernelspec": {
   "display_name": "Python 3",
   "language": "python",
   "name": "python3"
  },
  "language_info": {
   "codemirror_mode": {
    "name": "ipython",
    "version": 3
   },
   "file_extension": ".py",
   "mimetype": "text/x-python",
   "name": "python",
   "nbconvert_exporter": "python",
   "pygments_lexer": "ipython3",
   "version": "3.6.5"
  }
 },
 "nbformat": 4,
 "nbformat_minor": 2
}
