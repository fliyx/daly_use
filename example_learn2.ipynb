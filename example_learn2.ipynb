{
 "cells": [
  {
   "cell_type": "markdown",
   "metadata": {},
   "source": [
    "# 列表/字典/集合操作"
   ]
  },
  {
   "cell_type": "markdown",
   "metadata": {},
   "source": [
    "#  1、筛选数据"
   ]
  },
  {
   "cell_type": "code",
   "execution_count": 13,
   "metadata": {},
   "outputs": [
    {
     "name": "stdout",
     "output_type": "stream",
     "text": [
      "1.23 µs ± 6.74 ns per loop (mean ± std. dev. of 7 runs, 1000000 loops each)\n",
      "437 ns ± 7.71 ns per loop (mean ± std. dev. of 7 runs, 1000000 loops each)\n"
     ]
    }
   ],
   "source": [
    "from random import randint\n",
    "data = [randint(-5,20) for _ in range(10)]   #列表筛选\n",
    "\n",
    "#剔除负数\n",
    "%timeit [x for x in data if x>=0]     \n",
    "%timeit  filter(lambda x: x>=0 ,data)\n",
    "# print(d)\n",
    "# list(d1)"
   ]
  },
  {
   "cell_type": "code",
   "execution_count": 18,
   "metadata": {},
   "outputs": [],
   "source": [
    "from random import randint\n",
    "data = {x:randint(60,100) for x in range(1,21)}   #生成字典\n",
    "d={k:v for k,v in data.items() if v>90}        #筛选大于90的数"
   ]
  },
  {
   "cell_type": "code",
   "execution_count": 19,
   "metadata": {},
   "outputs": [
    {
     "data": {
      "text/plain": [
       "{3: 95, 4: 96, 5: 100, 6: 91, 7: 95, 9: 92, 12: 97, 20: 100}"
      ]
     },
     "execution_count": 19,
     "metadata": {},
     "output_type": "execute_result"
    }
   ],
   "source": [
    "d"
   ]
  },
  {
   "cell_type": "markdown",
   "metadata": {},
   "source": [
    "# 2、数据统计"
   ]
  },
  {
   "cell_type": "code",
   "execution_count": 23,
   "metadata": {},
   "outputs": [
    {
     "data": {
      "text/plain": [
       "16"
      ]
     },
     "execution_count": 23,
     "metadata": {},
     "output_type": "execute_result"
    }
   ],
   "source": [
    "from collections import namedtuple                #元组----内置元组\n",
    "Student = namedtuple('Student',['name','sex','age','email'])\n",
    "s=Student('jack','male',16,'2344@qq.com')\n",
    "s.age"
   ]
  },
  {
   "cell_type": "code",
   "execution_count": 17,
   "metadata": {},
   "outputs": [],
   "source": [
    "from random import randint\n",
    "data = [randint(2,10) for _ in range(30)]"
   ]
  },
  {
   "cell_type": "code",
   "execution_count": 34,
   "metadata": {},
   "outputs": [
    {
     "name": "stdout",
     "output_type": "stream",
     "text": [
      "{9: 3, 4: 4, 8: 4, 10: 3, 5: 2, 7: 4, 2: 3, 3: 3, 6: 4}\n"
     ]
    }
   ],
   "source": [
    "c=dict.fromkeys(data,0)        #&&&&&&&&& 重点 &&&&&&&&  获取字典的项，并赋予每个项初值。\n",
    "for i in data:     #统计每个项出现的次数\n",
    "    c[i]+=1\n",
    "print(c)"
   ]
  },
  {
   "cell_type": "code",
   "execution_count": 55,
   "metadata": {},
   "outputs": [
    {
     "data": {
      "text/plain": [
       "[(4, 4), (8, 4), (7, 4)]"
      ]
     },
     "execution_count": 55,
     "metadata": {},
     "output_type": "execute_result"
    }
   ],
   "source": [
    "from collections import Counter\n",
    "c2=Counter(data)   #直接对data进行次数统计\n",
    "c2.most_common(3)   #出现次数最多的3（n）个"
   ]
  },
  {
   "cell_type": "code",
   "execution_count": 51,
   "metadata": {},
   "outputs": [],
   "source": [
    "import re               #文件词频统计   ********\n",
    "txt=open('./readme.txt','r',encoding='utf-8').read()\n",
    "c3=Counter(re.split('\\W+',txt))   #正则表达式分割非字母文字"
   ]
  },
  {
   "cell_type": "code",
   "execution_count": 52,
   "metadata": {},
   "outputs": [
    {
     "data": {
      "text/plain": [
       "[('', 2), ('example_learn1', 1)]"
      ]
     },
     "execution_count": 52,
     "metadata": {},
     "output_type": "execute_result"
    }
   ],
   "source": [
    "c3.most_common(2)"
   ]
  },
  {
   "cell_type": "code",
   "execution_count": 53,
   "metadata": {},
   "outputs": [
    {
     "data": {
      "text/plain": [
       "['', 'example_learn1', '鼠标操作', '文件夹的压缩', '解压', '重命名', '删除', '复制', '']"
      ]
     },
     "execution_count": 53,
     "metadata": {},
     "output_type": "execute_result"
    }
   ],
   "source": [
    "re.split('\\W+',txt)"
   ]
  },
  {
   "cell_type": "markdown",
   "metadata": {},
   "source": [
    "# 3、 根据字典值的大小对字典排序"
   ]
  },
  {
   "cell_type": "markdown",
   "metadata": {},
   "source": [
    "#使用zip将字典转化为元组\n",
    "#使用sorted函数的key参数"
   ]
  },
  {
   "cell_type": "code",
   "execution_count": 62,
   "metadata": {},
   "outputs": [],
   "source": [
    "from random import randint\n",
    "data = {x:randint(60,100) for x in 'xyzabc'}\n",
    "# data.keys()   #字典的键\n",
    "# data.values() #字典的值"
   ]
  },
  {
   "cell_type": "code",
   "execution_count": 74,
   "metadata": {},
   "outputs": [
    {
     "data": {
      "text/plain": [
       "[(64, 'y'), (74, 'b'), (81, 'z'), (92, 'x'), (96, 'a'), (97, 'c')]"
      ]
     },
     "execution_count": 74,
     "metadata": {},
     "output_type": "execute_result"
    }
   ],
   "source": [
    "d = list(zip(data.values(),data.keys()))   #使用zip将字典的值和键互换\n",
    "sorted(zip(data.values(),data.keys()))     #排序"
   ]
  },
  {
   "cell_type": "code",
   "execution_count": 76,
   "metadata": {},
   "outputs": [
    {
     "data": {
      "text/plain": [
       "dict_items([('x', 92), ('y', 64), ('z', 81), ('a', 96), ('b', 74), ('c', 97)])"
      ]
     },
     "execution_count": 76,
     "metadata": {},
     "output_type": "execute_result"
    }
   ],
   "source": [
    "data.items()"
   ]
  },
  {
   "cell_type": "code",
   "execution_count": 75,
   "metadata": {},
   "outputs": [
    {
     "data": {
      "text/plain": [
       "[('y', 64), ('b', 74), ('z', 81), ('x', 92), ('a', 96), ('c', 97)]"
      ]
     },
     "execution_count": 75,
     "metadata": {},
     "output_type": "execute_result"
    }
   ],
   "source": [
    "sorted(data.items(),key = lambda x:x[1])"
   ]
  },
  {
   "cell_type": "markdown",
   "metadata": {},
   "source": [
    "#  4、多个字典公共键（key）"
   ]
  },
  {
   "cell_type": "code",
   "execution_count": 77,
   "metadata": {},
   "outputs": [
    {
     "data": {
      "text/plain": [
       "['d', 's', 'f']"
      ]
     },
     "execution_count": 77,
     "metadata": {},
     "output_type": "execute_result"
    }
   ],
   "source": [
    "from random import randint , sample\n",
    "sample('asdfrgtkl',randint(3,6))  #从'asdfrgtkl' 随机 获取3-6个值"
   ]
  },
  {
   "cell_type": "code",
   "execution_count": 79,
   "metadata": {},
   "outputs": [
    {
     "name": "stdout",
     "output_type": "stream",
     "text": [
      "{'r': 2, 'g': 4, 'l': 1} {'a': 2, 'f': 2, 'r': 4, 'd': 1} {'g': 1, 'f': 3, 'd': 3, 'l': 3, 'r': 3}\n"
     ]
    }
   ],
   "source": [
    "s1 = {x:randint(1,4) for x in sample('asdfrgtkl',randint(3,6)) }\n",
    "s2 = {x:randint(1,4) for x in sample('asdfrgtkl',randint(3,6)) }\n",
    "s3 = {x:randint(1,4) for x in sample('asdfrgtkl',randint(3,6)) }\n",
    "print(s1,s2,s3)"
   ]
  },
  {
   "cell_type": "code",
   "execution_count": 84,
   "metadata": {},
   "outputs": [
    {
     "data": {
      "text/plain": [
       "{'r'}"
      ]
     },
     "execution_count": 84,
     "metadata": {},
     "output_type": "execute_result"
    }
   ],
   "source": [
    "s1.keys()&s2.keys()&s3.keys()     #集合'并'运算 ，适合字典数目较少"
   ]
  },
  {
   "cell_type": "code",
   "execution_count": 86,
   "metadata": {},
   "outputs": [
    {
     "data": {
      "text/plain": [
       "[dict_keys(['r', 'g', 'l']),\n",
       " dict_keys(['a', 'f', 'r', 'd']),\n",
       " dict_keys(['g', 'f', 'd', 'l', 'r'])]"
      ]
     },
     "execution_count": 86,
     "metadata": {},
     "output_type": "execute_result"
    }
   ],
   "source": [
    "list(map(dict.keys,[s1,s2,s3]))"
   ]
  },
  {
   "cell_type": "code",
   "execution_count": 88,
   "metadata": {},
   "outputs": [
    {
     "data": {
      "text/plain": [
       "{'r'}"
      ]
     },
     "execution_count": 88,
     "metadata": {},
     "output_type": "execute_result"
    }
   ],
   "source": [
    "from functools import reduce\n",
    "reduce(lambda a,b: a & b, map(dict.keys,[s1,s2,s3]))"
   ]
  },
  {
   "cell_type": "code",
   "execution_count": 2,
   "metadata": {},
   "outputs": [
    {
     "data": {
      "text/plain": [
       "[6, 3, 2, 7, 7, 4, 4, 1, 1, 1]"
      ]
     },
     "execution_count": 2,
     "metadata": {},
     "output_type": "execute_result"
    }
   ],
   "source": [
    "from collections import Counter\n",
    "nums = [1,1,1,3,4,6,7,7,2,4]\n",
    "# c = Counter(nums)\n",
    "c1 = sorted(Counter(nums).items() , key = lambda x : (x[1],-x[0]))     ##对数据c[1]升序排列，对c[0]降序排列  \n",
    "c2 = [i for i,k in c1]\n",
    "c3 = [i  for j in c2 for i in nums if j==i]\n",
    "c3"
   ]
  },
  {
   "cell_type": "code",
   "execution_count": 20,
   "metadata": {},
   "outputs": [
    {
     "data": {
      "text/plain": [
       "1"
      ]
     },
     "execution_count": 20,
     "metadata": {},
     "output_type": "execute_result"
    }
   ],
   "source": [
    "s = \"a\"\n",
    "\n",
    "t = \"a\"\n",
    "s1 = dict.fromkeys(s,0)\n",
    "t1 = dict.fromkeys(t,0)\n",
    "for i in s:\n",
    "    s1[i]+=1\n",
    "for i in t:\n",
    "    t1[i]+=1\n",
    "r = s1==t1 and 1 or 2\n",
    "r"
   ]
  },
  {
   "cell_type": "code",
   "execution_count": 8,
   "metadata": {},
   "outputs": [
    {
     "ename": "IndexError",
     "evalue": "list index out of range",
     "output_type": "error",
     "traceback": [
      "\u001b[1;31m---------------------------------------------------------------------------\u001b[0m",
      "\u001b[1;31mIndexError\u001b[0m                                Traceback (most recent call last)",
      "\u001b[1;32m<ipython-input-8-ea5c99602d68>\u001b[0m in \u001b[0;36m<module>\u001b[1;34m\u001b[0m\n\u001b[0;32m      8\u001b[0m     \u001b[1;32mfor\u001b[0m \u001b[0mj\u001b[0m \u001b[1;32min\u001b[0m \u001b[0mrange\u001b[0m\u001b[1;33m(\u001b[0m\u001b[0mi\u001b[0m\u001b[1;33m,\u001b[0m\u001b[0mlen\u001b[0m\u001b[1;33m(\u001b[0m\u001b[0mc\u001b[0m\u001b[1;33m)\u001b[0m\u001b[1;33m+\u001b[0m\u001b[1;36m1\u001b[0m\u001b[1;33m)\u001b[0m\u001b[1;33m:\u001b[0m\u001b[1;33m\u001b[0m\u001b[0m\n\u001b[0;32m      9\u001b[0m         \u001b[0msame\u001b[0m \u001b[1;33m=\u001b[0m \u001b[1;33m[\u001b[0m\u001b[1;33m]\u001b[0m\u001b[1;33m\u001b[0m\u001b[0m\n\u001b[1;32m---> 10\u001b[1;33m         \u001b[0msame\u001b[0m \u001b[1;33m=\u001b[0m \u001b[1;33m[\u001b[0m\u001b[0mk\u001b[0m \u001b[1;32mfor\u001b[0m \u001b[0mk\u001b[0m \u001b[1;32min\u001b[0m \u001b[0mc\u001b[0m\u001b[1;33m[\u001b[0m\u001b[0mi\u001b[0m\u001b[1;33m-\u001b[0m\u001b[1;36m1\u001b[0m\u001b[1;33m]\u001b[0m \u001b[1;32mif\u001b[0m \u001b[0mk\u001b[0m \u001b[1;32min\u001b[0m \u001b[0mc\u001b[0m\u001b[1;33m[\u001b[0m\u001b[0mj\u001b[0m\u001b[1;33m]\u001b[0m\u001b[1;33m]\u001b[0m\u001b[1;33m\u001b[0m\u001b[0m\n\u001b[0m\u001b[0;32m     11\u001b[0m         \u001b[1;32mif\u001b[0m \u001b[0mlen\u001b[0m\u001b[1;33m(\u001b[0m\u001b[0msame\u001b[0m\u001b[1;33m)\u001b[0m \u001b[1;33m>\u001b[0m \u001b[1;36m0\u001b[0m\u001b[1;33m:\u001b[0m\u001b[1;33m\u001b[0m\u001b[0m\n\u001b[0;32m     12\u001b[0m             \u001b[0ms\u001b[0m\u001b[1;33m.\u001b[0m\u001b[0mappend\u001b[0m\u001b[1;33m(\u001b[0m\u001b[0msame\u001b[0m\u001b[1;33m)\u001b[0m\u001b[1;33m\u001b[0m\u001b[0m\n",
      "\u001b[1;32m<ipython-input-8-ea5c99602d68>\u001b[0m in \u001b[0;36m<listcomp>\u001b[1;34m(.0)\u001b[0m\n\u001b[0;32m      8\u001b[0m     \u001b[1;32mfor\u001b[0m \u001b[0mj\u001b[0m \u001b[1;32min\u001b[0m \u001b[0mrange\u001b[0m\u001b[1;33m(\u001b[0m\u001b[0mi\u001b[0m\u001b[1;33m,\u001b[0m\u001b[0mlen\u001b[0m\u001b[1;33m(\u001b[0m\u001b[0mc\u001b[0m\u001b[1;33m)\u001b[0m\u001b[1;33m+\u001b[0m\u001b[1;36m1\u001b[0m\u001b[1;33m)\u001b[0m\u001b[1;33m:\u001b[0m\u001b[1;33m\u001b[0m\u001b[0m\n\u001b[0;32m      9\u001b[0m         \u001b[0msame\u001b[0m \u001b[1;33m=\u001b[0m \u001b[1;33m[\u001b[0m\u001b[1;33m]\u001b[0m\u001b[1;33m\u001b[0m\u001b[0m\n\u001b[1;32m---> 10\u001b[1;33m         \u001b[0msame\u001b[0m \u001b[1;33m=\u001b[0m \u001b[1;33m[\u001b[0m\u001b[0mk\u001b[0m \u001b[1;32mfor\u001b[0m \u001b[0mk\u001b[0m \u001b[1;32min\u001b[0m \u001b[0mc\u001b[0m\u001b[1;33m[\u001b[0m\u001b[0mi\u001b[0m\u001b[1;33m-\u001b[0m\u001b[1;36m1\u001b[0m\u001b[1;33m]\u001b[0m \u001b[1;32mif\u001b[0m \u001b[0mk\u001b[0m \u001b[1;32min\u001b[0m \u001b[0mc\u001b[0m\u001b[1;33m[\u001b[0m\u001b[0mj\u001b[0m\u001b[1;33m]\u001b[0m\u001b[1;33m]\u001b[0m\u001b[1;33m\u001b[0m\u001b[0m\n\u001b[0m\u001b[0;32m     11\u001b[0m         \u001b[1;32mif\u001b[0m \u001b[0mlen\u001b[0m\u001b[1;33m(\u001b[0m\u001b[0msame\u001b[0m\u001b[1;33m)\u001b[0m \u001b[1;33m>\u001b[0m \u001b[1;36m0\u001b[0m\u001b[1;33m:\u001b[0m\u001b[1;33m\u001b[0m\u001b[0m\n\u001b[0;32m     12\u001b[0m             \u001b[0ms\u001b[0m\u001b[1;33m.\u001b[0m\u001b[0mappend\u001b[0m\u001b[1;33m(\u001b[0m\u001b[0msame\u001b[0m\u001b[1;33m)\u001b[0m\u001b[1;33m\u001b[0m\u001b[0m\n",
      "\u001b[1;31mIndexError\u001b[0m: list index out of range"
     ]
    }
   ],
   "source": [
    "points = [[10,16],[2,8],[1,6],[7,12]]\n",
    "c = []\n",
    "s = []\n",
    "for i in points:\n",
    "    c.append([j for j in range(i[0],i[1]+1)])\n",
    "\n",
    "for i in range(1,len(c)+1):\n",
    "    for j in range(i,len(c)):\n",
    "        same = []\n",
    "        same = [k for k in c[i-1] if k in c[j]]\n",
    "        if len(same) > 0: \n",
    "            s.append(same)\n",
    "s\n"
   ]
  },
  {
   "cell_type": "code",
   "execution_count": 5,
   "metadata": {},
   "outputs": [
    {
     "data": {
      "text/plain": [
       "1"
      ]
     },
     "execution_count": 5,
     "metadata": {},
     "output_type": "execute_result"
    }
   ],
   "source": [
    "points = [[5,16],[2,8],[3,6],[6,12]]\n",
    "def findMinArrowShots(points) :\n",
    "    if points == []:\n",
    "        return 0\n",
    "    points.sort()\n",
    "    start , end = points[0][0] , points[0][1]\n",
    "    arrow = 1\n",
    "    for i in points[1:]:\n",
    "        if i[0] > end:\n",
    "            arrow += 1\n",
    "            end = i[1]\n",
    "        else:\n",
    "            if i[1]  < end :\n",
    "                end = i[1]\n",
    "    return arrow\n",
    "findMinArrowShots(points)"
   ]
  },
  {
   "cell_type": "code",
   "execution_count": 33,
   "metadata": {},
   "outputs": [
    {
     "data": {
      "text/plain": [
       "'asdaa'"
      ]
     },
     "execution_count": 33,
     "metadata": {},
     "output_type": "execute_result"
    }
   ],
   "source": [
    "S = 'aasda'\n",
    "c=Counter(S)\n",
    "res = \"\"\n",
    "j = 0\n",
    "if 2*list(c.values())[0] -len(S) > 1:\n",
    "    print(0)\n",
    "else :\n",
    "    while(j<len(S)):\n",
    "        for i,k in c.items():\n",
    "            if j/len(c) < k:\n",
    "                res += i\n",
    "                j += 1\n",
    "res"
   ]
  },
  {
   "cell_type": "code",
   "execution_count": 15,
   "metadata": {},
   "outputs": [
    {
     "data": {
      "text/plain": [
       "Counter({'a': 2, 's': 1, 'd': 1})"
      ]
     },
     "execution_count": 15,
     "metadata": {},
     "output_type": "execute_result"
    }
   ],
   "source": [
    "from collections import Counter\n",
    "S = 'aasd'\n",
    "c=Counter(S)\n",
    "c"
   ]
  },
  {
   "cell_type": "code",
   "execution_count": 27,
   "metadata": {},
   "outputs": [
    {
     "data": {
      "text/plain": [
       "1"
      ]
     },
     "execution_count": 27,
     "metadata": {},
     "output_type": "execute_result"
    }
   ],
   "source": [
    "list(c.values())[0]\n"
   ]
  },
  {
   "cell_type": "code",
   "execution_count": 47,
   "metadata": {},
   "outputs": [
    {
     "name": "stdout",
     "output_type": "stream",
     "text": [
      "[-100000     128     128     128]\n",
      "3 [-100000     128     128 -100000]\n",
      "[-100000 -100000     128 -100000]\n",
      "2 [-100000 -100000 -100000 -100000]\n",
      "[-100000 -100000 -100000 -100000]\n",
      "[-100000 -100000 -100000 -100000]\n"
     ]
    },
    {
     "data": {
      "text/plain": [
       "[[128, 128], [128, 128]]"
      ]
     },
     "execution_count": 47,
     "metadata": {},
     "output_type": "execute_result"
    }
   ],
   "source": [
    "import numpy\n",
    "nums = [128,128,128,128]\n",
    "target = 256\n",
    "s = []\n",
    "# nums.sort()\n",
    "n = numpy.array(nums)\n",
    "if len(nums)==1:\n",
    "    print(0)\n",
    "for i in range(len(nums)):\n",
    "    t = nums[i]\n",
    "    j = target - t\n",
    "    n[i] = - 10**5\n",
    "    print(n)\n",
    "    if j in n :\n",
    "        p = numpy.where(n[:] == j)\n",
    "        x = p[0][-1]\n",
    "        s.append([t,j])\n",
    "        n[x] = - 10**5\n",
    "        print(x,n)\n",
    "s"
   ]
  },
  {
   "cell_type": "code",
   "execution_count": 51,
   "metadata": {},
   "outputs": [
    {
     "name": "stdout",
     "output_type": "stream",
     "text": [
      "3 [    128     128     128 -100000]\n",
      "2 [    128     128 -100000 -100000]\n"
     ]
    },
    {
     "data": {
      "text/plain": [
       "[[128, 128], [128, 128]]"
      ]
     },
     "execution_count": 51,
     "metadata": {},
     "output_type": "execute_result"
    }
   ],
   "source": [
    "import numpy\n",
    "nums = [128,128,128,128]\n",
    "target = 256\n",
    "s = []\n",
    "nums.sort()\n",
    "n = numpy.array(nums)\n",
    "i = 0\n",
    "j = len(nums)\n",
    "while i < j:\n",
    "    t = nums[i]\n",
    "    r = target - t\n",
    "    if r in n:\n",
    "        p = numpy.where(n[:] == r)\n",
    "        x = p[0][-1]\n",
    "        j = x\n",
    "        i = i + 1\n",
    "        s.append([t,r])\n",
    "        n[x] = - 10**5\n",
    "        print(x,n)\n",
    "        \n",
    "s       \n",
    "    "
   ]
  },
  {
   "cell_type": "code",
   "execution_count": 36,
   "metadata": {},
   "outputs": [
    {
     "data": {
      "text/plain": [
       "array([-100000, -100000, -100000, -100000])"
      ]
     },
     "execution_count": 36,
     "metadata": {},
     "output_type": "execute_result"
    }
   ],
   "source": [
    "n"
   ]
  },
  {
   "cell_type": "code",
   "execution_count": null,
   "metadata": {},
   "outputs": [],
   "source": []
  }
 ],
 "metadata": {
  "kernelspec": {
   "display_name": "Python 3",
   "language": "python",
   "name": "python3"
  },
  "language_info": {
   "codemirror_mode": {
    "name": "ipython",
    "version": 3
   },
   "file_extension": ".py",
   "mimetype": "text/x-python",
   "name": "python",
   "nbconvert_exporter": "python",
   "pygments_lexer": "ipython3",
   "version": "3.6.5"
  }
 },
 "nbformat": 4,
 "nbformat_minor": 4
}
